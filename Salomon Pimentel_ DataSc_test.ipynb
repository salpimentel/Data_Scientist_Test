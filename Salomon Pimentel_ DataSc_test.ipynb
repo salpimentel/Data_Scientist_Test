{
 "cells": [
  {
   "cell_type": "code",
   "execution_count": 1,
   "metadata": {
    "ExecuteTime": {
     "end_time": "2021-08-03T00:36:12.781176Z",
     "start_time": "2021-08-03T00:36:08.237328Z"
    }
   },
   "outputs": [
    {
     "name": "stderr",
     "output_type": "stream",
     "text": [
      "C:\\Users\\Ideapad\\Anaconda3\\lib\\site-packages\\pandas\\compat\\_optional.py:138: UserWarning: Pandas requires version '2.7.0' or newer of 'numexpr' (version '2.6.9' currently installed).\n",
      "  warnings.warn(msg, UserWarning)\n"
     ]
    }
   ],
   "source": [
    "# import nltk\n",
    "# from nltk.corpus import stopwords\n",
    "from nltk.tokenize import word_tokenize \n",
    "from stop_words import get_stop_words\n",
    "import requests\n",
    "import csv\n",
    "import pandas as pd\n",
    "import numpy as np\n",
    "import datetime as dt\n",
    "# url = 'https://datos.cdmx.gob.mx/api/3/action/datastore_search?resource_id=48fcb848-220c-4af0-839b-4fd8ac812c0f'  \n",
    "url = 'https://archivo.datos.cdmx.gob.mx/fiscalia-general-de-justicia/carpetas-de-investigacion-fgj-de-la-ciudad-de-mexico/carpetas_ss_junio2020.csv'"
   ]
  },
  {
   "cell_type": "code",
   "execution_count": 2,
   "metadata": {
    "ExecuteTime": {
     "end_time": "2021-08-03T00:36:12.797133Z",
     "start_time": "2021-08-03T00:36:12.783171Z"
    }
   },
   "outputs": [],
   "source": [
    "# sw = set(stopwords.words('spanish'))\n",
    "# nltk.download()\n",
    "sw = list(get_stop_words('es'))"
   ]
  },
  {
   "cell_type": "code",
   "execution_count": 3,
   "metadata": {
    "ExecuteTime": {
     "end_time": "2021-08-03T00:36:40.608826Z",
     "start_time": "2021-08-03T00:36:12.800124Z"
    }
   },
   "outputs": [],
   "source": [
    "# response = urlopen(url)\n",
    "req = requests.get(url)"
   ]
  },
  {
   "cell_type": "code",
   "execution_count": 4,
   "metadata": {
    "ExecuteTime": {
     "end_time": "2021-08-03T00:36:40.623788Z",
     "start_time": "2021-08-03T00:36:40.611821Z"
    }
   },
   "outputs": [],
   "source": [
    "url_content = req.content"
   ]
  },
  {
   "cell_type": "code",
   "execution_count": 5,
   "metadata": {
    "ExecuteTime": {
     "end_time": "2021-08-03T00:36:40.639744Z",
     "start_time": "2021-08-03T00:36:40.627777Z"
    }
   },
   "outputs": [],
   "source": [
    "csv_file = open('downloaded.csv', 'wb')"
   ]
  },
  {
   "cell_type": "code",
   "execution_count": 6,
   "metadata": {
    "ExecuteTime": {
     "end_time": "2021-08-03T00:36:41.002776Z",
     "start_time": "2021-08-03T00:36:40.642737Z"
    }
   },
   "outputs": [
    {
     "data": {
      "text/plain": [
       "290778238"
      ]
     },
     "execution_count": 6,
     "metadata": {},
     "output_type": "execute_result"
    }
   ],
   "source": [
    "csv_file.write(url_content)"
   ]
  },
  {
   "cell_type": "code",
   "execution_count": 7,
   "metadata": {
    "ExecuteTime": {
     "end_time": "2021-08-03T00:36:41.018734Z",
     "start_time": "2021-08-03T00:36:41.005769Z"
    }
   },
   "outputs": [],
   "source": [
    "csv_file.close()"
   ]
  },
  {
   "cell_type": "code",
   "execution_count": 8,
   "metadata": {
    "ExecuteTime": {
     "end_time": "2021-08-03T00:36:46.415347Z",
     "start_time": "2021-08-03T00:36:41.022723Z"
    }
   },
   "outputs": [],
   "source": [
    "df = pd.read_csv('downloaded.csv')"
   ]
  },
  {
   "cell_type": "code",
   "execution_count": 9,
   "metadata": {
    "ExecuteTime": {
     "end_time": "2021-08-03T00:36:46.479163Z",
     "start_time": "2021-08-03T00:36:46.418327Z"
    }
   },
   "outputs": [
    {
     "data": {
      "text/html": [
       "<div>\n",
       "<style scoped>\n",
       "    .dataframe tbody tr th:only-of-type {\n",
       "        vertical-align: middle;\n",
       "    }\n",
       "\n",
       "    .dataframe tbody tr th {\n",
       "        vertical-align: top;\n",
       "    }\n",
       "\n",
       "    .dataframe thead th {\n",
       "        text-align: right;\n",
       "    }\n",
       "</style>\n",
       "<table border=\"1\" class=\"dataframe\">\n",
       "  <thead>\n",
       "    <tr style=\"text-align: right;\">\n",
       "      <th></th>\n",
       "      <th>ao_hechos</th>\n",
       "      <th>mes_hechos</th>\n",
       "      <th>fecha_hechos</th>\n",
       "      <th>ao_inicio</th>\n",
       "      <th>mes_inicio</th>\n",
       "      <th>fecha_inicio</th>\n",
       "      <th>delito</th>\n",
       "      <th>fiscalia</th>\n",
       "      <th>agencia</th>\n",
       "      <th>unidad_investigacion</th>\n",
       "      <th>categoria_delito</th>\n",
       "      <th>calle_hechos</th>\n",
       "      <th>calle_hechos2</th>\n",
       "      <th>colonia_hechos</th>\n",
       "      <th>alcaldia_hechos</th>\n",
       "      <th>longitud</th>\n",
       "      <th>latitud</th>\n",
       "      <th>tempo</th>\n",
       "    </tr>\n",
       "  </thead>\n",
       "  <tbody>\n",
       "    <tr>\n",
       "      <th>0</th>\n",
       "      <td>2016.0</td>\n",
       "      <td>Enero</td>\n",
       "      <td>2016-01-31 22:16:00</td>\n",
       "      <td>2016</td>\n",
       "      <td>Febrero</td>\n",
       "      <td>2016-02-01 00:25:44</td>\n",
       "      <td>DAÑO EN PROPIEDAD AJENA INTENCIONAL</td>\n",
       "      <td>INVESTIGACIÓN EN BENITO JUÁREZ</td>\n",
       "      <td>BJ-2</td>\n",
       "      <td>UI-3CD</td>\n",
       "      <td>DELITO DE BAJO IMPACTO</td>\n",
       "      <td>CALZ. DE TLALPAN</td>\n",
       "      <td>LAGO PTE.</td>\n",
       "      <td>AMÉRICAS UNIDAS</td>\n",
       "      <td>BENITO JUAREZ</td>\n",
       "      <td>-99.140215</td>\n",
       "      <td>19.380315</td>\n",
       "      <td>NaN</td>\n",
       "    </tr>\n",
       "    <tr>\n",
       "      <th>1</th>\n",
       "      <td>2016.0</td>\n",
       "      <td>Enero</td>\n",
       "      <td>2016-01-31 20:50:00</td>\n",
       "      <td>2016</td>\n",
       "      <td>Febrero</td>\n",
       "      <td>2016-02-01 00:52:37</td>\n",
       "      <td>ROBO DE VEHICULO DE SERVICIO PARTICULAR CON VI...</td>\n",
       "      <td>INVESTIGACIÓN PARA LA ATENCIÓN DEL DELITO DE R...</td>\n",
       "      <td>ORIENTEII</td>\n",
       "      <td>UI-3CD</td>\n",
       "      <td>ROBO DE VEHÍCULO CON Y SIN VIOLENCIA</td>\n",
       "      <td>SUR 25 A</td>\n",
       "      <td>GRANJEROS</td>\n",
       "      <td>LOS CIPRESES</td>\n",
       "      <td>IZTAPALAPA</td>\n",
       "      <td>-99.108403</td>\n",
       "      <td>19.352859</td>\n",
       "      <td>NaN</td>\n",
       "    </tr>\n",
       "    <tr>\n",
       "      <th>2</th>\n",
       "      <td>2016.0</td>\n",
       "      <td>Febrero</td>\n",
       "      <td>2016-02-01 00:30:00</td>\n",
       "      <td>2016</td>\n",
       "      <td>Febrero</td>\n",
       "      <td>2016-02-01 01:33:26</td>\n",
       "      <td>NARCOMENUDEO POSESION SIMPLE</td>\n",
       "      <td>INVESTIGACIÓN PARA LA ATENCIÓN DE NIÑOS, NIÑAS...</td>\n",
       "      <td>57</td>\n",
       "      <td>UI-3CD</td>\n",
       "      <td>DELITO DE BAJO IMPACTO</td>\n",
       "      <td>BATALLONES ROJOS</td>\n",
       "      <td>NaN</td>\n",
       "      <td>UNIDAD VICENTE GUERRERO</td>\n",
       "      <td>IZTAPALAPA</td>\n",
       "      <td>-99.061321</td>\n",
       "      <td>19.356451</td>\n",
       "      <td>NaN</td>\n",
       "    </tr>\n",
       "    <tr>\n",
       "      <th>3</th>\n",
       "      <td>2016.0</td>\n",
       "      <td>Enero</td>\n",
       "      <td>2016-01-31 22:00:00</td>\n",
       "      <td>2016</td>\n",
       "      <td>Febrero</td>\n",
       "      <td>2016-02-01 02:09:11</td>\n",
       "      <td>ROBO A TRANSEUNTE EN VIA PUBLICA CON VIOLENCIA</td>\n",
       "      <td>INVESTIGACIÓN EN IZTAPALAPA</td>\n",
       "      <td>IZP-6</td>\n",
       "      <td>UI-3CD</td>\n",
       "      <td>ROBO A TRANSEUNTE EN VÍA PÚBLICA CON Y SIN VIO...</td>\n",
       "      <td>GERANIO</td>\n",
       "      <td>GAVILLEROS</td>\n",
       "      <td>EMILIANO ZAPATA</td>\n",
       "      <td>IZTAPALAPA</td>\n",
       "      <td>-98.976379</td>\n",
       "      <td>19.331633</td>\n",
       "      <td>NaN</td>\n",
       "    </tr>\n",
       "    <tr>\n",
       "      <th>4</th>\n",
       "      <td>2015.0</td>\n",
       "      <td>Diciembre</td>\n",
       "      <td>2015-12-25 12:00:00</td>\n",
       "      <td>2016</td>\n",
       "      <td>Febrero</td>\n",
       "      <td>2016-02-01 02:16:49</td>\n",
       "      <td>DENUNCIA DE HECHOS</td>\n",
       "      <td>INVESTIGACIÓN EN BENITO JUÁREZ</td>\n",
       "      <td>BJ-1</td>\n",
       "      <td>UI-3SD</td>\n",
       "      <td>HECHO NO DELICTIVO</td>\n",
       "      <td>SAN FRANCISCO</td>\n",
       "      <td>AVENIDA COLONIA DEL VALLE</td>\n",
       "      <td>DEL VALLE CENTRO</td>\n",
       "      <td>BENITO JUAREZ</td>\n",
       "      <td>-99.172189</td>\n",
       "      <td>19.387114</td>\n",
       "      <td>NaN</td>\n",
       "    </tr>\n",
       "    <tr>\n",
       "      <th>...</th>\n",
       "      <td>...</td>\n",
       "      <td>...</td>\n",
       "      <td>...</td>\n",
       "      <td>...</td>\n",
       "      <td>...</td>\n",
       "      <td>...</td>\n",
       "      <td>...</td>\n",
       "      <td>...</td>\n",
       "      <td>...</td>\n",
       "      <td>...</td>\n",
       "      <td>...</td>\n",
       "      <td>...</td>\n",
       "      <td>...</td>\n",
       "      <td>...</td>\n",
       "      <td>...</td>\n",
       "      <td>...</td>\n",
       "      <td>...</td>\n",
       "      <td>...</td>\n",
       "    </tr>\n",
       "    <tr>\n",
       "      <th>1030757</th>\n",
       "      <td>2020.0</td>\n",
       "      <td>Junio</td>\n",
       "      <td>2020-06-30 23:00:00</td>\n",
       "      <td>2020</td>\n",
       "      <td>Junio</td>\n",
       "      <td>2020-06-30 23:38:59</td>\n",
       "      <td>ROBO A TRANSEUNTE EN VIA PUBLICA CON VIOLENCIA</td>\n",
       "      <td>FISCALÍA DE INVESTIGACIÓN TERRITORIAL EN GUSTA...</td>\n",
       "      <td>GAM-6</td>\n",
       "      <td>UI-1CD</td>\n",
       "      <td>ROBO A TRANSEUNTE EN VÍA PÚBLICA CON Y SIN VIO...</td>\n",
       "      <td>CLAVE</td>\n",
       "      <td>PUCINNI</td>\n",
       "      <td>VALLEJO</td>\n",
       "      <td>GUSTAVO A MADERO</td>\n",
       "      <td>-99.134871</td>\n",
       "      <td>19.466284</td>\n",
       "      <td>NaN</td>\n",
       "    </tr>\n",
       "    <tr>\n",
       "      <th>1030758</th>\n",
       "      <td>2020.0</td>\n",
       "      <td>Junio</td>\n",
       "      <td>2020-06-29 03:30:00</td>\n",
       "      <td>2020</td>\n",
       "      <td>Junio</td>\n",
       "      <td>2020-06-30 23:39:20</td>\n",
       "      <td>FRAUDE</td>\n",
       "      <td>UNIDAD DE RECEPCIÓN POR INTERNET</td>\n",
       "      <td>CEN-1</td>\n",
       "      <td>Unidad de Investigación 1 S/D</td>\n",
       "      <td>DELITO DE BAJO IMPACTO</td>\n",
       "      <td>AV UNIVERSIDAD</td>\n",
       "      <td>INDUSTRIA</td>\n",
       "      <td>AXOTLA</td>\n",
       "      <td>ALVARO OBREGON</td>\n",
       "      <td>-99.172309</td>\n",
       "      <td>19.358334</td>\n",
       "      <td>NaN</td>\n",
       "    </tr>\n",
       "    <tr>\n",
       "      <th>1030759</th>\n",
       "      <td>2019.0</td>\n",
       "      <td>Diciembre</td>\n",
       "      <td>2019-12-20 22:30:00</td>\n",
       "      <td>2020</td>\n",
       "      <td>Junio</td>\n",
       "      <td>2020-06-30 23:46:02</td>\n",
       "      <td>NEGACION DEL SERVICIO PUBLICO</td>\n",
       "      <td>FISCALÍA PARA LA INVESTIGACIÓN DE LOS DELITOS ...</td>\n",
       "      <td>B</td>\n",
       "      <td>UI-1CD</td>\n",
       "      <td>DELITO DE BAJO IMPACTO</td>\n",
       "      <td>AV- MEMXICO</td>\n",
       "      <td>AV. TOLUCA Y TLAXCALA (FISCALIA DE INVESTIGACI...</td>\n",
       "      <td>PROGRESO</td>\n",
       "      <td>ALVARO OBREGON</td>\n",
       "      <td>-99.201685</td>\n",
       "      <td>19.339645</td>\n",
       "      <td>NaN</td>\n",
       "    </tr>\n",
       "    <tr>\n",
       "      <th>1030760</th>\n",
       "      <td>2020.0</td>\n",
       "      <td>Junio</td>\n",
       "      <td>2020-06-30 18:40:00</td>\n",
       "      <td>2020</td>\n",
       "      <td>Junio</td>\n",
       "      <td>2020-06-30 23:47:25</td>\n",
       "      <td>AMENAZAS</td>\n",
       "      <td>FISCALÍA DE INVESTIGACIÓN TERRITORIAL EN CUAUH...</td>\n",
       "      <td>CUH-2</td>\n",
       "      <td>UI-1SD</td>\n",
       "      <td>DELITO DE BAJO IMPACTO</td>\n",
       "      <td>PEDRO MORENO</td>\n",
       "      <td>AV. PASEO DE LA REFORMA</td>\n",
       "      <td>GUERRERO</td>\n",
       "      <td>CUAUHTEMOC</td>\n",
       "      <td>-99.143585</td>\n",
       "      <td>19.441199</td>\n",
       "      <td>NaN</td>\n",
       "    </tr>\n",
       "    <tr>\n",
       "      <th>1030761</th>\n",
       "      <td>2020.0</td>\n",
       "      <td>Junio</td>\n",
       "      <td>2020-06-30 21:30:00</td>\n",
       "      <td>2020</td>\n",
       "      <td>Junio</td>\n",
       "      <td>2020-06-30 23:55:46</td>\n",
       "      <td>VIOLENCIA FAMILIAR</td>\n",
       "      <td>FISCALÍA DE INVESTIGACIÓN TERRITORIAL EN IZTAC...</td>\n",
       "      <td>IZC-2</td>\n",
       "      <td>UI-1SD</td>\n",
       "      <td>DELITO DE BAJO IMPACTO</td>\n",
       "      <td>PLAYA NIZUC</td>\n",
       "      <td>AV. AMACUZAC</td>\n",
       "      <td>SANTIAGO SUR</td>\n",
       "      <td>IZTACALCO</td>\n",
       "      <td>-99.127101</td>\n",
       "      <td>19.389455</td>\n",
       "      <td>NaN</td>\n",
       "    </tr>\n",
       "  </tbody>\n",
       "</table>\n",
       "<p>1030762 rows × 18 columns</p>\n",
       "</div>"
      ],
      "text/plain": [
       "         ao_hechos mes_hechos         fecha_hechos  ao_inicio mes_inicio  \\\n",
       "0           2016.0      Enero  2016-01-31 22:16:00       2016    Febrero   \n",
       "1           2016.0      Enero  2016-01-31 20:50:00       2016    Febrero   \n",
       "2           2016.0    Febrero  2016-02-01 00:30:00       2016    Febrero   \n",
       "3           2016.0      Enero  2016-01-31 22:00:00       2016    Febrero   \n",
       "4           2015.0  Diciembre  2015-12-25 12:00:00       2016    Febrero   \n",
       "...            ...        ...                  ...        ...        ...   \n",
       "1030757     2020.0      Junio  2020-06-30 23:00:00       2020      Junio   \n",
       "1030758     2020.0      Junio  2020-06-29 03:30:00       2020      Junio   \n",
       "1030759     2019.0  Diciembre  2019-12-20 22:30:00       2020      Junio   \n",
       "1030760     2020.0      Junio  2020-06-30 18:40:00       2020      Junio   \n",
       "1030761     2020.0      Junio  2020-06-30 21:30:00       2020      Junio   \n",
       "\n",
       "                fecha_inicio  \\\n",
       "0        2016-02-01 00:25:44   \n",
       "1        2016-02-01 00:52:37   \n",
       "2        2016-02-01 01:33:26   \n",
       "3        2016-02-01 02:09:11   \n",
       "4        2016-02-01 02:16:49   \n",
       "...                      ...   \n",
       "1030757  2020-06-30 23:38:59   \n",
       "1030758  2020-06-30 23:39:20   \n",
       "1030759  2020-06-30 23:46:02   \n",
       "1030760  2020-06-30 23:47:25   \n",
       "1030761  2020-06-30 23:55:46   \n",
       "\n",
       "                                                    delito  \\\n",
       "0                      DAÑO EN PROPIEDAD AJENA INTENCIONAL   \n",
       "1        ROBO DE VEHICULO DE SERVICIO PARTICULAR CON VI...   \n",
       "2                             NARCOMENUDEO POSESION SIMPLE   \n",
       "3           ROBO A TRANSEUNTE EN VIA PUBLICA CON VIOLENCIA   \n",
       "4                                       DENUNCIA DE HECHOS   \n",
       "...                                                    ...   \n",
       "1030757     ROBO A TRANSEUNTE EN VIA PUBLICA CON VIOLENCIA   \n",
       "1030758                                             FRAUDE   \n",
       "1030759                      NEGACION DEL SERVICIO PUBLICO   \n",
       "1030760                                           AMENAZAS   \n",
       "1030761                                 VIOLENCIA FAMILIAR   \n",
       "\n",
       "                                                  fiscalia    agencia  \\\n",
       "0                           INVESTIGACIÓN EN BENITO JUÁREZ       BJ-2   \n",
       "1        INVESTIGACIÓN PARA LA ATENCIÓN DEL DELITO DE R...  ORIENTEII   \n",
       "2        INVESTIGACIÓN PARA LA ATENCIÓN DE NIÑOS, NIÑAS...         57   \n",
       "3                              INVESTIGACIÓN EN IZTAPALAPA      IZP-6   \n",
       "4                           INVESTIGACIÓN EN BENITO JUÁREZ       BJ-1   \n",
       "...                                                    ...        ...   \n",
       "1030757  FISCALÍA DE INVESTIGACIÓN TERRITORIAL EN GUSTA...      GAM-6   \n",
       "1030758                   UNIDAD DE RECEPCIÓN POR INTERNET      CEN-1   \n",
       "1030759  FISCALÍA PARA LA INVESTIGACIÓN DE LOS DELITOS ...          B   \n",
       "1030760  FISCALÍA DE INVESTIGACIÓN TERRITORIAL EN CUAUH...      CUH-2   \n",
       "1030761  FISCALÍA DE INVESTIGACIÓN TERRITORIAL EN IZTAC...      IZC-2   \n",
       "\n",
       "                  unidad_investigacion  \\\n",
       "0                               UI-3CD   \n",
       "1                               UI-3CD   \n",
       "2                               UI-3CD   \n",
       "3                               UI-3CD   \n",
       "4                               UI-3SD   \n",
       "...                                ...   \n",
       "1030757                         UI-1CD   \n",
       "1030758  Unidad de Investigación 1 S/D   \n",
       "1030759                         UI-1CD   \n",
       "1030760                         UI-1SD   \n",
       "1030761                         UI-1SD   \n",
       "\n",
       "                                          categoria_delito      calle_hechos  \\\n",
       "0                                   DELITO DE BAJO IMPACTO  CALZ. DE TLALPAN   \n",
       "1                     ROBO DE VEHÍCULO CON Y SIN VIOLENCIA          SUR 25 A   \n",
       "2                                   DELITO DE BAJO IMPACTO  BATALLONES ROJOS   \n",
       "3        ROBO A TRANSEUNTE EN VÍA PÚBLICA CON Y SIN VIO...           GERANIO   \n",
       "4                                       HECHO NO DELICTIVO     SAN FRANCISCO   \n",
       "...                                                    ...               ...   \n",
       "1030757  ROBO A TRANSEUNTE EN VÍA PÚBLICA CON Y SIN VIO...             CLAVE   \n",
       "1030758                             DELITO DE BAJO IMPACTO    AV UNIVERSIDAD   \n",
       "1030759                             DELITO DE BAJO IMPACTO       AV- MEMXICO   \n",
       "1030760                             DELITO DE BAJO IMPACTO      PEDRO MORENO   \n",
       "1030761                             DELITO DE BAJO IMPACTO       PLAYA NIZUC   \n",
       "\n",
       "                                             calle_hechos2  \\\n",
       "0                                                LAGO PTE.   \n",
       "1                                                GRANJEROS   \n",
       "2                                                      NaN   \n",
       "3                                               GAVILLEROS   \n",
       "4                                AVENIDA COLONIA DEL VALLE   \n",
       "...                                                    ...   \n",
       "1030757                                            PUCINNI   \n",
       "1030758                                          INDUSTRIA   \n",
       "1030759  AV. TOLUCA Y TLAXCALA (FISCALIA DE INVESTIGACI...   \n",
       "1030760                            AV. PASEO DE LA REFORMA   \n",
       "1030761                                       AV. AMACUZAC   \n",
       "\n",
       "                  colonia_hechos   alcaldia_hechos   longitud    latitud  \\\n",
       "0                AMÉRICAS UNIDAS     BENITO JUAREZ -99.140215  19.380315   \n",
       "1                   LOS CIPRESES        IZTAPALAPA -99.108403  19.352859   \n",
       "2        UNIDAD VICENTE GUERRERO        IZTAPALAPA -99.061321  19.356451   \n",
       "3                EMILIANO ZAPATA        IZTAPALAPA -98.976379  19.331633   \n",
       "4               DEL VALLE CENTRO     BENITO JUAREZ -99.172189  19.387114   \n",
       "...                          ...               ...        ...        ...   \n",
       "1030757                  VALLEJO  GUSTAVO A MADERO -99.134871  19.466284   \n",
       "1030758                   AXOTLA    ALVARO OBREGON -99.172309  19.358334   \n",
       "1030759                 PROGRESO    ALVARO OBREGON -99.201685  19.339645   \n",
       "1030760                 GUERRERO        CUAUHTEMOC -99.143585  19.441199   \n",
       "1030761             SANTIAGO SUR         IZTACALCO -99.127101  19.389455   \n",
       "\n",
       "         tempo  \n",
       "0          NaN  \n",
       "1          NaN  \n",
       "2          NaN  \n",
       "3          NaN  \n",
       "4          NaN  \n",
       "...        ...  \n",
       "1030757    NaN  \n",
       "1030758    NaN  \n",
       "1030759    NaN  \n",
       "1030760    NaN  \n",
       "1030761    NaN  \n",
       "\n",
       "[1030762 rows x 18 columns]"
      ]
     },
     "execution_count": 9,
     "metadata": {},
     "output_type": "execute_result"
    }
   ],
   "source": [
    "df"
   ]
  },
  {
   "cell_type": "markdown",
   "metadata": {},
   "source": [
    "1 .- ¿Qué pruebas identificarías para asegurar la calidad de estos datos?"
   ]
  },
  {
   "cell_type": "markdown",
   "metadata": {},
   "source": [
    "#### Missing Data\n",
    "\n",
    "Se verifica que campos cuentan con valores faltantes y en que propociòn ya que esto determinara si es necesario excluirlas del anàlisis."
   ]
  },
  {
   "cell_type": "code",
   "execution_count": 10,
   "metadata": {
    "ExecuteTime": {
     "end_time": "2021-08-03T00:36:47.257453Z",
     "start_time": "2021-08-03T00:36:46.481159Z"
    }
   },
   "outputs": [
    {
     "data": {
      "text/plain": [
       "ao_hechos               0.000388\n",
       "mes_hechos              0.000388\n",
       "fecha_hechos            0.000388\n",
       "ao_inicio               0.000000\n",
       "mes_inicio              0.000000\n",
       "fecha_inicio            0.000000\n",
       "delito                  0.000000\n",
       "fiscalia                0.000002\n",
       "agencia                 0.000000\n",
       "unidad_investigacion    0.000220\n",
       "categoria_delito        0.000000\n",
       "calle_hechos            0.002662\n",
       "calle_hechos2           0.602402\n",
       "colonia_hechos          0.040255\n",
       "alcaldia_hechos         0.003007\n",
       "longitud                0.039317\n",
       "latitud                 0.039317\n",
       "tempo                   1.000000\n",
       "dtype: float64"
      ]
     },
     "execution_count": 10,
     "metadata": {},
     "output_type": "execute_result"
    }
   ],
   "source": [
    "df.isnull().sum()/df.shape[0]  ### Con esto se sugiere excluir los campos tempo, competencia, calle_hechos2."
   ]
  },
  {
   "cell_type": "code",
   "execution_count": 11,
   "metadata": {
    "ExecuteTime": {
     "end_time": "2021-08-03T00:36:47.448455Z",
     "start_time": "2021-08-03T00:36:47.259448Z"
    }
   },
   "outputs": [],
   "source": [
    "df.drop(columns=['tempo', 'calle_hechos2'], inplace= True)"
   ]
  },
  {
   "cell_type": "code",
   "execution_count": 12,
   "metadata": {
    "ExecuteTime": {
     "end_time": "2021-08-03T00:36:47.968816Z",
     "start_time": "2021-08-03T00:36:47.450450Z"
    }
   },
   "outputs": [],
   "source": [
    "df_r = df.dropna(subset=['colonia_hechos', 'unidad_investigacion','calle_hechos','ao_hechos','longitud']).copy()"
   ]
  },
  {
   "cell_type": "code",
   "execution_count": 13,
   "metadata": {
    "ExecuteTime": {
     "end_time": "2021-08-03T00:36:48.616128Z",
     "start_time": "2021-08-03T00:36:47.971490Z"
    }
   },
   "outputs": [
    {
     "data": {
      "text/plain": [
       "ao_hechos               0.0\n",
       "mes_hechos              0.0\n",
       "fecha_hechos            0.0\n",
       "ao_inicio               0.0\n",
       "mes_inicio              0.0\n",
       "fecha_inicio            0.0\n",
       "delito                  0.0\n",
       "fiscalia                0.0\n",
       "agencia                 0.0\n",
       "unidad_investigacion    0.0\n",
       "categoria_delito        0.0\n",
       "calle_hechos            0.0\n",
       "colonia_hechos          0.0\n",
       "alcaldia_hechos         0.0\n",
       "longitud                0.0\n",
       "latitud                 0.0\n",
       "dtype: float64"
      ]
     },
     "execution_count": 13,
     "metadata": {},
     "output_type": "execute_result"
    }
   ],
   "source": [
    "df_r.isnull().sum()/df_r.shape[0]"
   ]
  },
  {
   "cell_type": "code",
   "execution_count": 14,
   "metadata": {
    "ExecuteTime": {
     "end_time": "2021-08-03T00:36:48.632082Z",
     "start_time": "2021-08-03T00:36:48.619118Z"
    }
   },
   "outputs": [
    {
     "data": {
      "text/plain": [
       "0.957583806931183"
      ]
     },
     "execution_count": 14,
     "metadata": {},
     "output_type": "execute_result"
    }
   ],
   "source": [
    "df_r.shape[0]/df.shape[0]"
   ]
  },
  {
   "cell_type": "code",
   "execution_count": 15,
   "metadata": {
    "ExecuteTime": {
     "end_time": "2021-08-03T00:36:48.648040Z",
     "start_time": "2021-08-03T00:36:48.634077Z"
    }
   },
   "outputs": [],
   "source": [
    "df_r['id'] = range(0,df_r.shape[0])"
   ]
  },
  {
   "cell_type": "code",
   "execution_count": 16,
   "metadata": {
    "ExecuteTime": {
     "end_time": "2021-08-03T00:36:48.663997Z",
     "start_time": "2021-08-03T00:36:48.651032Z"
    }
   },
   "outputs": [],
   "source": [
    "# df_r.tail()\n",
    "del df"
   ]
  },
  {
   "cell_type": "code",
   "execution_count": 17,
   "metadata": {
    "ExecuteTime": {
     "end_time": "2021-08-03T00:36:48.902361Z",
     "start_time": "2021-08-03T00:36:48.666991Z"
    }
   },
   "outputs": [
    {
     "data": {
      "text/html": [
       "<div>\n",
       "<style scoped>\n",
       "    .dataframe tbody tr th:only-of-type {\n",
       "        vertical-align: middle;\n",
       "    }\n",
       "\n",
       "    .dataframe tbody tr th {\n",
       "        vertical-align: top;\n",
       "    }\n",
       "\n",
       "    .dataframe thead th {\n",
       "        text-align: right;\n",
       "    }\n",
       "</style>\n",
       "<table border=\"1\" class=\"dataframe\">\n",
       "  <thead>\n",
       "    <tr style=\"text-align: right;\">\n",
       "      <th></th>\n",
       "      <th>ao_hechos</th>\n",
       "      <th>ao_inicio</th>\n",
       "      <th>longitud</th>\n",
       "      <th>latitud</th>\n",
       "      <th>id</th>\n",
       "    </tr>\n",
       "  </thead>\n",
       "  <tbody>\n",
       "    <tr>\n",
       "      <th>count</th>\n",
       "      <td>987041.000000</td>\n",
       "      <td>987041.000000</td>\n",
       "      <td>987041.000000</td>\n",
       "      <td>987041.000000</td>\n",
       "      <td>987041.000000</td>\n",
       "    </tr>\n",
       "    <tr>\n",
       "      <th>mean</th>\n",
       "      <td>2017.687854</td>\n",
       "      <td>2017.828950</td>\n",
       "      <td>-99.137400</td>\n",
       "      <td>19.387643</td>\n",
       "      <td>493520.000000</td>\n",
       "    </tr>\n",
       "    <tr>\n",
       "      <th>std</th>\n",
       "      <td>1.577975</td>\n",
       "      <td>1.258924</td>\n",
       "      <td>0.060542</td>\n",
       "      <td>0.109624</td>\n",
       "      <td>284934.337861</td>\n",
       "    </tr>\n",
       "    <tr>\n",
       "      <th>min</th>\n",
       "      <td>1906.000000</td>\n",
       "      <td>2016.000000</td>\n",
       "      <td>-102.000000</td>\n",
       "      <td>0.000000</td>\n",
       "      <td>0.000000</td>\n",
       "    </tr>\n",
       "    <tr>\n",
       "      <th>10%</th>\n",
       "      <td>2016.000000</td>\n",
       "      <td>2016.000000</td>\n",
       "      <td>-99.206382</td>\n",
       "      <td>19.294880</td>\n",
       "      <td>98704.000000</td>\n",
       "    </tr>\n",
       "    <tr>\n",
       "      <th>20%</th>\n",
       "      <td>2016.000000</td>\n",
       "      <td>2017.000000</td>\n",
       "      <td>-99.184371</td>\n",
       "      <td>19.327550</td>\n",
       "      <td>197408.000000</td>\n",
       "    </tr>\n",
       "    <tr>\n",
       "      <th>30%</th>\n",
       "      <td>2017.000000</td>\n",
       "      <td>2017.000000</td>\n",
       "      <td>-99.167420</td>\n",
       "      <td>19.353810</td>\n",
       "      <td>296112.000000</td>\n",
       "    </tr>\n",
       "    <tr>\n",
       "      <th>40%</th>\n",
       "      <td>2017.000000</td>\n",
       "      <td>2017.000000</td>\n",
       "      <td>-99.154141</td>\n",
       "      <td>19.373084</td>\n",
       "      <td>394816.000000</td>\n",
       "    </tr>\n",
       "    <tr>\n",
       "      <th>50%</th>\n",
       "      <td>2018.000000</td>\n",
       "      <td>2018.000000</td>\n",
       "      <td>-99.142413</td>\n",
       "      <td>19.390880</td>\n",
       "      <td>493520.000000</td>\n",
       "    </tr>\n",
       "    <tr>\n",
       "      <th>60%</th>\n",
       "      <td>2018.000000</td>\n",
       "      <td>2018.000000</td>\n",
       "      <td>-99.129004</td>\n",
       "      <td>19.411570</td>\n",
       "      <td>592224.000000</td>\n",
       "    </tr>\n",
       "    <tr>\n",
       "      <th>70%</th>\n",
       "      <td>2019.000000</td>\n",
       "      <td>2019.000000</td>\n",
       "      <td>-99.112190</td>\n",
       "      <td>19.429780</td>\n",
       "      <td>690928.000000</td>\n",
       "    </tr>\n",
       "    <tr>\n",
       "      <th>80%</th>\n",
       "      <td>2019.000000</td>\n",
       "      <td>2019.000000</td>\n",
       "      <td>-99.087320</td>\n",
       "      <td>19.446390</td>\n",
       "      <td>789632.000000</td>\n",
       "    </tr>\n",
       "    <tr>\n",
       "      <th>90%</th>\n",
       "      <td>2019.000000</td>\n",
       "      <td>2019.000000</td>\n",
       "      <td>-99.057455</td>\n",
       "      <td>19.475858</td>\n",
       "      <td>888336.000000</td>\n",
       "    </tr>\n",
       "    <tr>\n",
       "      <th>max</th>\n",
       "      <td>2020.000000</td>\n",
       "      <td>2020.000000</td>\n",
       "      <td>-98.946873</td>\n",
       "      <td>19.582490</td>\n",
       "      <td>987040.000000</td>\n",
       "    </tr>\n",
       "  </tbody>\n",
       "</table>\n",
       "</div>"
      ],
      "text/plain": [
       "           ao_hechos      ao_inicio       longitud        latitud  \\\n",
       "count  987041.000000  987041.000000  987041.000000  987041.000000   \n",
       "mean     2017.687854    2017.828950     -99.137400      19.387643   \n",
       "std         1.577975       1.258924       0.060542       0.109624   \n",
       "min      1906.000000    2016.000000    -102.000000       0.000000   \n",
       "10%      2016.000000    2016.000000     -99.206382      19.294880   \n",
       "20%      2016.000000    2017.000000     -99.184371      19.327550   \n",
       "30%      2017.000000    2017.000000     -99.167420      19.353810   \n",
       "40%      2017.000000    2017.000000     -99.154141      19.373084   \n",
       "50%      2018.000000    2018.000000     -99.142413      19.390880   \n",
       "60%      2018.000000    2018.000000     -99.129004      19.411570   \n",
       "70%      2019.000000    2019.000000     -99.112190      19.429780   \n",
       "80%      2019.000000    2019.000000     -99.087320      19.446390   \n",
       "90%      2019.000000    2019.000000     -99.057455      19.475858   \n",
       "max      2020.000000    2020.000000     -98.946873      19.582490   \n",
       "\n",
       "                  id  \n",
       "count  987041.000000  \n",
       "mean   493520.000000  \n",
       "std    284934.337861  \n",
       "min         0.000000  \n",
       "10%     98704.000000  \n",
       "20%    197408.000000  \n",
       "30%    296112.000000  \n",
       "40%    394816.000000  \n",
       "50%    493520.000000  \n",
       "60%    592224.000000  \n",
       "70%    690928.000000  \n",
       "80%    789632.000000  \n",
       "90%    888336.000000  \n",
       "max    987040.000000  "
      ]
     },
     "execution_count": 17,
     "metadata": {},
     "output_type": "execute_result"
    }
   ],
   "source": [
    "df_r.describe([round(x,1) for x in np.arange(0.1, 1.0, 0.1)])"
   ]
  },
  {
   "cell_type": "code",
   "execution_count": 18,
   "metadata": {
    "ExecuteTime": {
     "end_time": "2021-08-03T00:36:49.139245Z",
     "start_time": "2021-08-03T00:36:48.905352Z"
    }
   },
   "outputs": [],
   "source": [
    "df_r = df_r[df_r.ao_hechos>2015]"
   ]
  },
  {
   "cell_type": "code",
   "execution_count": 19,
   "metadata": {
    "ExecuteTime": {
     "end_time": "2021-08-03T00:36:49.154206Z",
     "start_time": "2021-08-03T00:36:49.142238Z"
    }
   },
   "outputs": [],
   "source": [
    "def normalize(s):\n",
    "    replacements = (\n",
    "        (\"á\", \"a\"),\n",
    "        (\"é\", \"e\"),\n",
    "        (\"í\", \"i\"),\n",
    "        (\"ó\", \"o\"),\n",
    "        (\"ú\", \"u\"),\n",
    "    )\n",
    "    for a, b in replacements:\n",
    "        s = s.replace(a, b).replace(a.upper(), b.upper())\n",
    "    return s"
   ]
  },
  {
   "cell_type": "code",
   "execution_count": 20,
   "metadata": {
    "ExecuteTime": {
     "end_time": "2021-08-03T00:36:49.169165Z",
     "start_time": "2021-08-03T00:36:49.157197Z"
    }
   },
   "outputs": [],
   "source": [
    "def word_clean(x):\n",
    "    word_tokens = word_tokenize(x.lower())\n",
    "    filtered_sentence = [normalize(w).upper() for w in word_tokens if not w in sw]\n",
    "#     joined_sentence = \"|\".join(filtered_sentence)\n",
    "#     return joined_sentence\n",
    "    return filtered_sentence"
   ]
  },
  {
   "cell_type": "code",
   "execution_count": 21,
   "metadata": {
    "ExecuteTime": {
     "end_time": "2021-08-03T00:38:48.522651Z",
     "start_time": "2021-08-03T00:36:49.172158Z"
    }
   },
   "outputs": [],
   "source": [
    "df_r['delito_cl'] = [word_clean(x) for x in df_r.delito]"
   ]
  },
  {
   "cell_type": "code",
   "execution_count": 22,
   "metadata": {
    "ExecuteTime": {
     "end_time": "2021-08-03T00:38:48.934006Z",
     "start_time": "2021-08-03T00:38:48.523724Z"
    }
   },
   "outputs": [],
   "source": [
    "df_r[\"n_count\"] = df_r[\"delito_cl\"].str.len()"
   ]
  },
  {
   "cell_type": "code",
   "execution_count": 23,
   "metadata": {
    "ExecuteTime": {
     "end_time": "2021-08-03T00:41:23.031928Z",
     "start_time": "2021-08-03T00:38:48.938997Z"
    }
   },
   "outputs": [],
   "source": [
    "for i in range(df_r[\"n_count\"].max()):\n",
    "\n",
    "    df_r[f\"delito_{i}\"] = df_r.apply(lambda x:x[\"delito_cl\"][i] if x[\"n_count\"] >= i+1 else np.nan, axis = 1)\n",
    "    aux = df_r[[\"id\", f\"delito_{i}\"]].rename(columns={f\"delito_{i}\": \"delito_\"})\n",
    "    if i == 0:\n",
    "        delito_desc = aux.copy()\n",
    "    else:\n",
    "        delito_desc = delito_desc.append(aux)"
   ]
  },
  {
   "cell_type": "code",
   "execution_count": 24,
   "metadata": {
    "ExecuteTime": {
     "end_time": "2021-08-03T00:41:23.079269Z",
     "start_time": "2021-08-03T00:41:23.034521Z"
    }
   },
   "outputs": [],
   "source": [
    "delito_desc['cont'] = 1"
   ]
  },
  {
   "cell_type": "code",
   "execution_count": 25,
   "metadata": {
    "ExecuteTime": {
     "end_time": "2021-08-03T00:41:38.851492Z",
     "start_time": "2021-08-03T00:41:23.082288Z"
    }
   },
   "outputs": [],
   "source": [
    "del_desc = pd.pivot_table(delito_desc.dropna(),values='cont',columns=['delito_'],index=['id'], aggfunc=np.sum)"
   ]
  },
  {
   "cell_type": "code",
   "execution_count": 26,
   "metadata": {
    "ExecuteTime": {
     "end_time": "2021-08-03T00:41:38.867451Z",
     "start_time": "2021-08-03T00:41:38.853487Z"
    }
   },
   "outputs": [],
   "source": [
    "# list(del_desc.columns)"
   ]
  },
  {
   "cell_type": "code",
   "execution_count": 27,
   "metadata": {
    "ExecuteTime": {
     "end_time": "2021-08-03T00:41:38.883407Z",
     "start_time": "2021-08-03T00:41:38.870450Z"
    }
   },
   "outputs": [],
   "source": [
    "ls_select = ['ABANDONO', 'ABORTO', 'ABUSIVO', 'ABUSO', 'ACCIDENTE', 'ACOSO', 'AGRAVADO', 'AGREDIR', 'AHOGAMIENTO', 'AHORCAMIENTO',\n",
    "             'ALCOHOLICA', 'ALIMENTARIA', 'ALIMENTOS', 'ALLANAMIENTO', 'ALTERACION', 'AMENAZAS', 'ANIMAL', 'ANIMALES',\n",
    "             'ANONIMAS', 'APOLOGIA', 'APORTE', 'ARMA', 'ARMA/PROHIB', 'ARMAS', 'ASALTO', 'ASFIXIA', 'ASOCIACION', \n",
    "             'ATAQUE', 'ATAQUES', 'ATROPELLADO', 'BEBIDAS', 'BIENES', 'BIGAMIA', 'CADAVERES', 'CAIDA', 'CALUMNIAS', 'CARDIACO',\n",
    "             'CASA', 'CIVIL', 'COACCION', 'COALICIÓN', 'COBRANZA', 'COHECHO', 'COLABORACION', 'COLISION', 'COMERCIALIZACION',\n",
    "             'COMERCIO', 'CONCUSION','CONDUCTA', 'CONDUCTOR', 'CONGESTION','CONTAMINACIÓN', 'CONTENEDEROS', 'CONTENEDORES', \n",
    "             'CORRUPCION', 'CORRUPCIÓN', 'CORTANTE', 'CREDITO', 'CUIDADO', 'CULPOSA', 'CULPOSAS', 'CULPOSO', 'CULPOSOS',\n",
    "             'DDH', 'DECLARACIONES', 'DELICTUOSA', 'DELINCUENCIA', 'DELITO', 'DELITOS', 'DENUNCIA', 'DESACATO', 'DESAPARICION',\n",
    "             'DESOBEDENCIA', 'DESOBEDIENCIA', 'DESPOJO', 'DIFAMACION', 'DISCAPACIDAD', 'DISCAPACITADO', 'DISCRIMINACION', 'DISPARO',\n",
    "             'DISPAROS', 'DOLOSAS', 'DOLOSO', 'EJECUTE', 'ENAJENACION', 'ENCUBRIMIENTO', 'ENRIQUECIMIENTO', 'ENVENENAMIENTO',\n",
    "             'ESTUPRO', 'EVASION', 'EXHORTOS', 'EXHUMACION', 'EXHUMACIONES', 'EXPLOSIVOS', 'EXPLOTACION', 'EXPOSICION', 'EXTORSION',\n",
    "             'EXTRACCION', 'EXTRAVIADAS', 'FABRICACION', 'FALSEDAD', 'FALSIFICACION', 'FARDEROS', 'FDS', 'FEDERAL', 'FEDERALES', \n",
    "             'FEMINICIDIO', 'FORZADA', 'FORANEO', 'FRAUDE', 'FUEGO', 'FUERZA', 'FISICA', 'GENERAL', 'GENERALES', 'GESTION', \n",
    "             'GOLPES', 'HECHO', 'HECHOS', 'HOMICIDIO', 'HOMICIDIOS', 'ILEGAL', 'ILEGITIMA','ILICITA', 'ILICITO', 'IMPORTACION',\n",
    "             'IMPRESION', 'INCAPACES', 'INCESTO', 'INCOMPETENCIA', 'INDEBIDA', 'INDEBIDO',\n",
    "             'INHUMACION', 'INHUMACIONES', 'INTENCIONAL', 'INTENCIONALES', 'INTIMIDACION', 'INTIMIDAD', 'INTOXICACION', 'INVASION',\n",
    "             'LENOCINIO', 'LESIONES', 'MALTRATO', 'MENOR', 'MENORES', 'MENTAL', 'MOTIN', 'NARCOMENUDEO', 'OBLIGACION', 'OMISION',\n",
    "             'OPERACIONES', 'OPONGA', 'OPOSICION', 'PECULADO', 'PELIGRO', 'PENSION', 'PERDIDA', 'PLAGIO', 'PORNOGRAFIA',\n",
    "             'PORTACION', 'PORTADOR', 'POSESION', 'PRESOS', 'PRIVACION', 'PROCEDENCIA', 'PUNZO','QUEBRANTAMIENTO', 'QUEMADURA', \n",
    "             'QUEMADURAS', 'REDES', 'ROBADO', 'ROBO', 'SABOTAJE', 'SECRETOS', 'SEXUAL', 'SUSTRACCION', 'SUSTRACCIÓN', 'TALA', \n",
    "             'TENTATIVA', 'TORTURA', 'TRABAJO', 'TRAFICO', 'TRANSEUNTE', 'TRANSITO', 'TRANSPORTE', 'TRANSPORTISTA', 'TRASLADO', \n",
    "             'TRATA', 'ULTRAJES', 'USURPACION', 'UTILIZACION', 'VENERERO','VENTA', 'VIOLENCIA']"
   ]
  },
  {
   "cell_type": "code",
   "execution_count": 28,
   "metadata": {
    "ExecuteTime": {
     "end_time": "2021-08-03T00:41:39.008074Z",
     "start_time": "2021-08-03T00:41:38.886401Z"
    }
   },
   "outputs": [],
   "source": [
    "del_desc.columns\n",
    "del delito_desc"
   ]
  },
  {
   "cell_type": "code",
   "execution_count": 29,
   "metadata": {
    "ExecuteTime": {
     "end_time": "2021-08-03T00:41:39.101362Z",
     "start_time": "2021-08-03T00:41:39.009070Z"
    }
   },
   "outputs": [],
   "source": [
    "ls_categoria_delito = list(df_r.categoria_delito.unique())"
   ]
  },
  {
   "cell_type": "code",
   "execution_count": 30,
   "metadata": {
    "ExecuteTime": {
     "end_time": "2021-08-03T00:41:40.137327Z",
     "start_time": "2021-08-03T00:41:39.103360Z"
    }
   },
   "outputs": [],
   "source": [
    "df_r = pd.get_dummies(df_r, columns=['categoria_delito'])"
   ]
  },
  {
   "cell_type": "code",
   "execution_count": 31,
   "metadata": {
    "ExecuteTime": {
     "end_time": "2021-08-03T00:41:40.153201Z",
     "start_time": "2021-08-03T00:41:40.138242Z"
    }
   },
   "outputs": [],
   "source": [
    "df_r.columns = [x.replace('categoria_delito_','') for x in df_r.columns]"
   ]
  },
  {
   "cell_type": "code",
   "execution_count": 32,
   "metadata": {
    "ExecuteTime": {
     "end_time": "2021-08-03T00:41:40.988378Z",
     "start_time": "2021-08-03T00:41:40.155196Z"
    }
   },
   "outputs": [],
   "source": [
    "df_r.drop(columns=['delito_0', 'delito_1',\n",
    "       'delito_2', 'delito_3', 'delito_4', 'delito_5', 'delito_6', 'delito_7',\n",
    "       'delito_8', 'delito_9', 'delito_10', 'delito_11', 'delito_12',\n",
    "       'delito_13', 'delito_14', 'delito_15', 'delito_16', 'delito_17',], inplace=True)"
   ]
  },
  {
   "cell_type": "code",
   "execution_count": 33,
   "metadata": {
    "ExecuteTime": {
     "end_time": "2021-08-03T00:41:41.020332Z",
     "start_time": "2021-08-03T00:41:40.990418Z"
    }
   },
   "outputs": [
    {
     "data": {
      "text/html": [
       "<div>\n",
       "<style scoped>\n",
       "    .dataframe tbody tr th:only-of-type {\n",
       "        vertical-align: middle;\n",
       "    }\n",
       "\n",
       "    .dataframe tbody tr th {\n",
       "        vertical-align: top;\n",
       "    }\n",
       "\n",
       "    .dataframe thead th {\n",
       "        text-align: right;\n",
       "    }\n",
       "</style>\n",
       "<table border=\"1\" class=\"dataframe\">\n",
       "  <thead>\n",
       "    <tr style=\"text-align: right;\">\n",
       "      <th></th>\n",
       "      <th>ao_hechos</th>\n",
       "      <th>mes_hechos</th>\n",
       "      <th>fecha_hechos</th>\n",
       "      <th>ao_inicio</th>\n",
       "      <th>mes_inicio</th>\n",
       "      <th>fecha_inicio</th>\n",
       "      <th>delito</th>\n",
       "      <th>fiscalia</th>\n",
       "      <th>agencia</th>\n",
       "      <th>unidad_investigacion</th>\n",
       "      <th>...</th>\n",
       "      <th>ROBO A NEGOCIO CON VIOLENCIA</th>\n",
       "      <th>ROBO A PASAJERO A BORDO DE MICROBUS CON Y SIN VIOLENCIA</th>\n",
       "      <th>ROBO A PASAJERO A BORDO DE TAXI CON VIOLENCIA</th>\n",
       "      <th>ROBO A PASAJERO A BORDO DEL METRO CON Y SIN VIOLENCIA</th>\n",
       "      <th>ROBO A REPARTIDOR CON Y SIN VIOLENCIA</th>\n",
       "      <th>ROBO A TRANSEUNTE EN VÍA PÚBLICA CON Y SIN VIOLENCIA</th>\n",
       "      <th>ROBO A TRANSPORTISTA CON Y SIN VIOLENCIA</th>\n",
       "      <th>ROBO DE VEHÍCULO CON Y SIN VIOLENCIA</th>\n",
       "      <th>SECUESTRO</th>\n",
       "      <th>VIOLACIÓN</th>\n",
       "    </tr>\n",
       "  </thead>\n",
       "  <tbody>\n",
       "    <tr>\n",
       "      <th>0</th>\n",
       "      <td>2016.0</td>\n",
       "      <td>Enero</td>\n",
       "      <td>2016-01-31 22:16:00</td>\n",
       "      <td>2016</td>\n",
       "      <td>Febrero</td>\n",
       "      <td>2016-02-01 00:25:44</td>\n",
       "      <td>DAÑO EN PROPIEDAD AJENA INTENCIONAL</td>\n",
       "      <td>INVESTIGACIÓN EN BENITO JUÁREZ</td>\n",
       "      <td>BJ-2</td>\n",
       "      <td>UI-3CD</td>\n",
       "      <td>...</td>\n",
       "      <td>0</td>\n",
       "      <td>0</td>\n",
       "      <td>0</td>\n",
       "      <td>0</td>\n",
       "      <td>0</td>\n",
       "      <td>0</td>\n",
       "      <td>0</td>\n",
       "      <td>0</td>\n",
       "      <td>0</td>\n",
       "      <td>0</td>\n",
       "    </tr>\n",
       "    <tr>\n",
       "      <th>1</th>\n",
       "      <td>2016.0</td>\n",
       "      <td>Enero</td>\n",
       "      <td>2016-01-31 20:50:00</td>\n",
       "      <td>2016</td>\n",
       "      <td>Febrero</td>\n",
       "      <td>2016-02-01 00:52:37</td>\n",
       "      <td>ROBO DE VEHICULO DE SERVICIO PARTICULAR CON VI...</td>\n",
       "      <td>INVESTIGACIÓN PARA LA ATENCIÓN DEL DELITO DE R...</td>\n",
       "      <td>ORIENTEII</td>\n",
       "      <td>UI-3CD</td>\n",
       "      <td>...</td>\n",
       "      <td>0</td>\n",
       "      <td>0</td>\n",
       "      <td>0</td>\n",
       "      <td>0</td>\n",
       "      <td>0</td>\n",
       "      <td>0</td>\n",
       "      <td>0</td>\n",
       "      <td>1</td>\n",
       "      <td>0</td>\n",
       "      <td>0</td>\n",
       "    </tr>\n",
       "    <tr>\n",
       "      <th>2</th>\n",
       "      <td>2016.0</td>\n",
       "      <td>Febrero</td>\n",
       "      <td>2016-02-01 00:30:00</td>\n",
       "      <td>2016</td>\n",
       "      <td>Febrero</td>\n",
       "      <td>2016-02-01 01:33:26</td>\n",
       "      <td>NARCOMENUDEO POSESION SIMPLE</td>\n",
       "      <td>INVESTIGACIÓN PARA LA ATENCIÓN DE NIÑOS, NIÑAS...</td>\n",
       "      <td>57</td>\n",
       "      <td>UI-3CD</td>\n",
       "      <td>...</td>\n",
       "      <td>0</td>\n",
       "      <td>0</td>\n",
       "      <td>0</td>\n",
       "      <td>0</td>\n",
       "      <td>0</td>\n",
       "      <td>0</td>\n",
       "      <td>0</td>\n",
       "      <td>0</td>\n",
       "      <td>0</td>\n",
       "      <td>0</td>\n",
       "    </tr>\n",
       "    <tr>\n",
       "      <th>3</th>\n",
       "      <td>2016.0</td>\n",
       "      <td>Enero</td>\n",
       "      <td>2016-01-31 22:00:00</td>\n",
       "      <td>2016</td>\n",
       "      <td>Febrero</td>\n",
       "      <td>2016-02-01 02:09:11</td>\n",
       "      <td>ROBO A TRANSEUNTE EN VIA PUBLICA CON VIOLENCIA</td>\n",
       "      <td>INVESTIGACIÓN EN IZTAPALAPA</td>\n",
       "      <td>IZP-6</td>\n",
       "      <td>UI-3CD</td>\n",
       "      <td>...</td>\n",
       "      <td>0</td>\n",
       "      <td>0</td>\n",
       "      <td>0</td>\n",
       "      <td>0</td>\n",
       "      <td>0</td>\n",
       "      <td>1</td>\n",
       "      <td>0</td>\n",
       "      <td>0</td>\n",
       "      <td>0</td>\n",
       "      <td>0</td>\n",
       "    </tr>\n",
       "    <tr>\n",
       "      <th>5</th>\n",
       "      <td>2016.0</td>\n",
       "      <td>Febrero</td>\n",
       "      <td>2016-02-01 01:30:00</td>\n",
       "      <td>2016</td>\n",
       "      <td>Febrero</td>\n",
       "      <td>2016-02-01 02:19:12</td>\n",
       "      <td>LESIONES CULPOSAS POR TRANSITO VEHICULAR EN CO...</td>\n",
       "      <td>INVESTIGACIÓN EN CUAUHTEMOC</td>\n",
       "      <td>CUH-2</td>\n",
       "      <td>UI-3CD</td>\n",
       "      <td>...</td>\n",
       "      <td>0</td>\n",
       "      <td>0</td>\n",
       "      <td>0</td>\n",
       "      <td>0</td>\n",
       "      <td>0</td>\n",
       "      <td>0</td>\n",
       "      <td>0</td>\n",
       "      <td>0</td>\n",
       "      <td>0</td>\n",
       "      <td>0</td>\n",
       "    </tr>\n",
       "  </tbody>\n",
       "</table>\n",
       "<p>5 rows × 35 columns</p>\n",
       "</div>"
      ],
      "text/plain": [
       "   ao_hechos mes_hechos         fecha_hechos  ao_inicio mes_inicio  \\\n",
       "0     2016.0      Enero  2016-01-31 22:16:00       2016    Febrero   \n",
       "1     2016.0      Enero  2016-01-31 20:50:00       2016    Febrero   \n",
       "2     2016.0    Febrero  2016-02-01 00:30:00       2016    Febrero   \n",
       "3     2016.0      Enero  2016-01-31 22:00:00       2016    Febrero   \n",
       "5     2016.0    Febrero  2016-02-01 01:30:00       2016    Febrero   \n",
       "\n",
       "          fecha_inicio                                             delito  \\\n",
       "0  2016-02-01 00:25:44                DAÑO EN PROPIEDAD AJENA INTENCIONAL   \n",
       "1  2016-02-01 00:52:37  ROBO DE VEHICULO DE SERVICIO PARTICULAR CON VI...   \n",
       "2  2016-02-01 01:33:26                       NARCOMENUDEO POSESION SIMPLE   \n",
       "3  2016-02-01 02:09:11     ROBO A TRANSEUNTE EN VIA PUBLICA CON VIOLENCIA   \n",
       "5  2016-02-01 02:19:12  LESIONES CULPOSAS POR TRANSITO VEHICULAR EN CO...   \n",
       "\n",
       "                                            fiscalia    agencia  \\\n",
       "0                     INVESTIGACIÓN EN BENITO JUÁREZ       BJ-2   \n",
       "1  INVESTIGACIÓN PARA LA ATENCIÓN DEL DELITO DE R...  ORIENTEII   \n",
       "2  INVESTIGACIÓN PARA LA ATENCIÓN DE NIÑOS, NIÑAS...         57   \n",
       "3                        INVESTIGACIÓN EN IZTAPALAPA      IZP-6   \n",
       "5                        INVESTIGACIÓN EN CUAUHTEMOC      CUH-2   \n",
       "\n",
       "  unidad_investigacion  ... ROBO A NEGOCIO CON VIOLENCIA  \\\n",
       "0               UI-3CD  ...                            0   \n",
       "1               UI-3CD  ...                            0   \n",
       "2               UI-3CD  ...                            0   \n",
       "3               UI-3CD  ...                            0   \n",
       "5               UI-3CD  ...                            0   \n",
       "\n",
       "  ROBO A PASAJERO A BORDO DE MICROBUS CON Y SIN VIOLENCIA  \\\n",
       "0                                                  0        \n",
       "1                                                  0        \n",
       "2                                                  0        \n",
       "3                                                  0        \n",
       "5                                                  0        \n",
       "\n",
       "  ROBO A PASAJERO A BORDO DE TAXI CON VIOLENCIA  \\\n",
       "0                                             0   \n",
       "1                                             0   \n",
       "2                                             0   \n",
       "3                                             0   \n",
       "5                                             0   \n",
       "\n",
       "   ROBO A PASAJERO A BORDO DEL METRO CON Y SIN VIOLENCIA  \\\n",
       "0                                                  0       \n",
       "1                                                  0       \n",
       "2                                                  0       \n",
       "3                                                  0       \n",
       "5                                                  0       \n",
       "\n",
       "   ROBO A REPARTIDOR CON Y SIN VIOLENCIA  \\\n",
       "0                                      0   \n",
       "1                                      0   \n",
       "2                                      0   \n",
       "3                                      0   \n",
       "5                                      0   \n",
       "\n",
       "   ROBO A TRANSEUNTE EN VÍA PÚBLICA CON Y SIN VIOLENCIA  \\\n",
       "0                                                  0      \n",
       "1                                                  0      \n",
       "2                                                  0      \n",
       "3                                                  1      \n",
       "5                                                  0      \n",
       "\n",
       "  ROBO A TRANSPORTISTA CON Y SIN VIOLENCIA  \\\n",
       "0                                        0   \n",
       "1                                        0   \n",
       "2                                        0   \n",
       "3                                        0   \n",
       "5                                        0   \n",
       "\n",
       "   ROBO DE VEHÍCULO CON Y SIN VIOLENCIA  SECUESTRO  VIOLACIÓN  \n",
       "0                                     0          0          0  \n",
       "1                                     1          0          0  \n",
       "2                                     0          0          0  \n",
       "3                                     0          0          0  \n",
       "5                                     0          0          0  \n",
       "\n",
       "[5 rows x 35 columns]"
      ]
     },
     "execution_count": 33,
     "metadata": {},
     "output_type": "execute_result"
    }
   ],
   "source": [
    "df_r.head()"
   ]
  },
  {
   "cell_type": "code",
   "execution_count": 34,
   "metadata": {
    "ExecuteTime": {
     "end_time": "2021-08-03T00:41:41.257732Z",
     "start_time": "2021-08-03T00:41:41.022331Z"
    }
   },
   "outputs": [],
   "source": [
    "agg_delitos = df_r[ls_categoria_delito + ['ao_hechos']].groupby(['ao_hechos'], as_index= False).agg(['mean'])"
   ]
  },
  {
   "cell_type": "code",
   "execution_count": 35,
   "metadata": {
    "ExecuteTime": {
     "end_time": "2021-08-03T00:41:41.273192Z",
     "start_time": "2021-08-03T00:41:41.259456Z"
    }
   },
   "outputs": [],
   "source": [
    "# agg_delitos.reset_index(inplace=True)"
   ]
  },
  {
   "cell_type": "code",
   "execution_count": 36,
   "metadata": {
    "ExecuteTime": {
     "end_time": "2021-08-03T00:41:41.288546Z",
     "start_time": "2021-08-03T00:41:41.273981Z"
    }
   },
   "outputs": [],
   "source": [
    "agg_delitos.columns = [\"\".join(x).replace('mean','') for x in agg_delitos.columns]"
   ]
  },
  {
   "cell_type": "code",
   "execution_count": 37,
   "metadata": {
    "ExecuteTime": {
     "end_time": "2021-08-03T00:41:41.617176Z",
     "start_time": "2021-08-03T00:41:41.289543Z"
    }
   },
   "outputs": [],
   "source": [
    "import matplotlib.pyplot as plt"
   ]
  },
  {
   "cell_type": "code",
   "execution_count": 38,
   "metadata": {
    "ExecuteTime": {
     "end_time": "2021-08-03T00:41:42.201570Z",
     "start_time": "2021-08-03T00:41:41.618142Z"
    }
   },
   "outputs": [
    {
     "data": {
      "text/plain": [
       "array([<matplotlib.axes._subplots.AxesSubplot object at 0x00000272BBA6C3C8>,\n",
       "       <matplotlib.axes._subplots.AxesSubplot object at 0x00000272BBAE33C8>],\n",
       "      dtype=object)"
      ]
     },
     "execution_count": 38,
     "metadata": {},
     "output_type": "execute_result"
    },
    {
     "data": {
      "image/png": "[encoded data removed]",
      "text/plain": [
       "<Figure size 432x288 with 2 Axes>"
      ]
     },
     "metadata": {
      "needs_background": "light"
     },
     "output_type": "display_data"
    }
   ],
   "source": [
    "agg_delitos.iloc[:,0:2].plot.bar(rot=0, subplots=True,legend=False)\n"
   ]
  },
  {
   "cell_type": "code",
   "execution_count": 39,
   "metadata": {
    "ExecuteTime": {
     "end_time": "2021-08-03T00:41:42.487460Z",
     "start_time": "2021-08-03T00:41:42.202568Z"
    }
   },
   "outputs": [
    {
     "data": {
      "text/plain": [
       "array([<matplotlib.axes._subplots.AxesSubplot object at 0x00000272BBBA1438>,\n",
       "       <matplotlib.axes._subplots.AxesSubplot object at 0x00000272BBBD1F98>],\n",
       "      dtype=object)"
      ]
     },
     "execution_count": 39,
     "metadata": {},
     "output_type": "execute_result"
    },
    {
     "data": {
      "image/png": "[encoded data removed]",
      "text/plain": [
       "<Figure size 432x288 with 2 Axes>"
      ]
     },
     "metadata": {
      "needs_background": "light"
     },
     "output_type": "display_data"
    }
   ],
   "source": [
    "agg_delitos.iloc[:,2:4].plot.bar(rot=0, subplots=True,legend=False)"
   ]
  },
  {
   "cell_type": "code",
   "execution_count": 40,
   "metadata": {
    "ExecuteTime": {
     "end_time": "2021-08-03T00:41:42.757332Z",
     "start_time": "2021-08-03T00:41:42.489421Z"
    }
   },
   "outputs": [
    {
     "data": {
      "image/png": "[encoded data removed]",
      "text/plain": [
       "<Figure size 432x288 with 2 Axes>"
      ]
     },
     "metadata": {
      "needs_background": "light"
     },
     "output_type": "display_data"
    }
   ],
   "source": [
    "axes2 = agg_delitos.iloc[:,4:6].plot.bar(rot=0, subplots=True,legend=False)"
   ]
  },
  {
   "cell_type": "code",
   "execution_count": 41,
   "metadata": {
    "ExecuteTime": {
     "end_time": "2021-08-03T00:41:43.200541Z",
     "start_time": "2021-08-03T00:41:42.759030Z"
    }
   },
   "outputs": [
    {
     "data": {
      "image/png": "[encoded data removed]",
      "text/plain": [
       "<Figure size 432x288 with 2 Axes>"
      ]
     },
     "metadata": {
      "needs_background": "light"
     },
     "output_type": "display_data"
    }
   ],
   "source": [
    "axes2 = agg_delitos.iloc[:,6:8].plot.bar(rot=0, subplots=True,legend=False)"
   ]
  },
  {
   "cell_type": "code",
   "execution_count": 42,
   "metadata": {
    "ExecuteTime": {
     "end_time": "2021-08-03T00:41:43.468605Z",
     "start_time": "2021-08-03T00:41:43.202522Z"
    }
   },
   "outputs": [
    {
     "data": {
      "image/png": "[encoded data removed]",
      "text/plain": [
       "<Figure size 432x288 with 2 Axes>"
      ]
     },
     "metadata": {
      "needs_background": "light"
     },
     "output_type": "display_data"
    }
   ],
   "source": [
    "axes2 = agg_delitos.iloc[:,8:10].plot.bar(rot=0, subplots=True,legend=False)"
   ]
  },
  {
   "cell_type": "code",
   "execution_count": 43,
   "metadata": {
    "ExecuteTime": {
     "end_time": "2021-08-03T00:41:43.753517Z",
     "start_time": "2021-08-03T00:41:43.469603Z"
    }
   },
   "outputs": [
    {
     "data": {
      "text/plain": [
       "array([<matplotlib.axes._subplots.AxesSubplot object at 0x00000272CAAE7A58>,\n",
       "       <matplotlib.axes._subplots.AxesSubplot object at 0x00000272CAB43860>],\n",
       "      dtype=object)"
      ]
     },
     "execution_count": 43,
     "metadata": {},
     "output_type": "execute_result"
    },
    {
     "data": {
      "image/png": "[encoded data removed]",
      "text/plain": [
       "<Figure size 432x288 with 2 Axes>"
      ]
     },
     "metadata": {
      "needs_background": "light"
     },
     "output_type": "display_data"
    }
   ],
   "source": [
    "agg_delitos.iloc[:,10:12].plot.bar(rot=0, subplots=True,legend=False)"
   ]
  },
  {
   "cell_type": "code",
   "execution_count": 44,
   "metadata": {
    "ExecuteTime": {
     "end_time": "2021-08-03T00:41:44.037872Z",
     "start_time": "2021-08-03T00:41:43.755473Z"
    }
   },
   "outputs": [
    {
     "data": {
      "text/plain": [
       "array([<matplotlib.axes._subplots.AxesSubplot object at 0x00000272CAAF7A58>,\n",
       "       <matplotlib.axes._subplots.AxesSubplot object at 0x00000272CAC05160>],\n",
       "      dtype=object)"
      ]
     },
     "execution_count": 44,
     "metadata": {},
     "output_type": "execute_result"
    },
    {
     "data": {
      "image/png": "[encoded data removed]",
      "text/plain": [
       "<Figure size 432x288 with 2 Axes>"
      ]
     },
     "metadata": {
      "needs_background": "light"
     },
     "output_type": "display_data"
    }
   ],
   "source": [
    "agg_delitos.iloc[:,12:14].plot.bar(rot=0, subplots=True,legend=False)"
   ]
  },
  {
   "cell_type": "code",
   "execution_count": 45,
   "metadata": {
    "ExecuteTime": {
     "end_time": "2021-08-03T00:41:44.323618Z",
     "start_time": "2021-08-03T00:41:44.039434Z"
    }
   },
   "outputs": [
    {
     "data": {
      "text/plain": [
       "array([<matplotlib.axes._subplots.AxesSubplot object at 0x00000272CAC9D400>,\n",
       "       <matplotlib.axes._subplots.AxesSubplot object at 0x00000272CACBDF28>],\n",
       "      dtype=object)"
      ]
     },
     "execution_count": 45,
     "metadata": {},
     "output_type": "execute_result"
    },
    {
     "data": {
      "image/png": "[encoded data removed]",
      "text/plain": [
       "<Figure size 432x288 with 2 Axes>"
      ]
     },
     "metadata": {
      "needs_background": "light"
     },
     "output_type": "display_data"
    }
   ],
   "source": [
    "agg_delitos.iloc[:,14:16].plot.bar(rot=0, subplots=True,legend=False)"
   ]
  },
  {
   "cell_type": "code",
   "execution_count": 46,
   "metadata": {
    "ExecuteTime": {
     "end_time": "2021-08-03T00:41:44.466152Z",
     "start_time": "2021-08-03T00:41:44.324616Z"
    }
   },
   "outputs": [
    {
     "data": {
      "text/plain": [
       "array([<matplotlib.axes._subplots.AxesSubplot object at 0x00000272CAC40320>],\n",
       "      dtype=object)"
      ]
     },
     "execution_count": 46,
     "metadata": {},
     "output_type": "execute_result"
    },
    {
     "data": {
      "image/png": "[encoded data removed]",
      "text/plain": [
       "<Figure size 432x288 with 1 Axes>"
      ]
     },
     "metadata": {
      "needs_background": "light"
     },
     "output_type": "display_data"
    }
   ],
   "source": [
    "agg_delitos.iloc[:,16:18].plot.bar(rot=0, subplots=True,legend=False)"
   ]
  },
  {
   "cell_type": "markdown",
   "metadata": {},
   "source": [
    "# ¿Qué pruebas identificarías para asegurar la calidad de estos datos? No es necesario hacerlas, sólo describe la prueba y lo que te dice cada una.\n",
    "\n",
    "Como se mostro, para asegurar la calidad se revisaria valores faltantes, campos unarios.\n",
    "\n",
    "Para pruebas estadísticas se optaría por:\n",
    "\n",
    " - La prueba Chi cuadrada para saber si hay algun cambio significativo. \n",
    " - La prueba KS para verificar la distribución de los datos sea similar.\n",
    "\n"
   ]
  },
  {
   "cell_type": "markdown",
   "metadata": {
    "ExecuteTime": {
     "end_time": "2021-08-02T05:20:11.563696Z",
     "start_time": "2021-08-02T05:20:09.497186Z"
    }
   },
   "source": [
    "# Identifica los delitos que van a la alza y a la baja en la CDMX"
   ]
  },
  {
   "cell_type": "markdown",
   "metadata": {},
   "source": [
    "Apoyandose de las graficas, si bien la proporción es baja en cuanto a la aparición de delitos \n",
    "se nota que aquellos que tienen una baja son :\n",
    "    - Robo a transportista\n",
    "    - Robo a pasajero"
   ]
  },
  {
   "cell_type": "markdown",
   "metadata": {},
   "source": [
    "De igual manera aquellos que han aumentado son:\n",
    "    - Robo a negocio\n",
    "    - Robo a casa habitacion\n",
    "    - Robo a repartidor\n",
    "    - Homicidio/ Feminicidio"
   ]
  },
  {
   "cell_type": "markdown",
   "metadata": {},
   "source": [
    "# ¿Cuál es la alcaldía que más delitos tiene y cuál es la que menos? ¿Por qué crees que sea esto?"
   ]
  },
  {
   "cell_type": "code",
   "execution_count": 47,
   "metadata": {
    "ExecuteTime": {
     "end_time": "2021-08-03T00:41:44.545346Z",
     "start_time": "2021-08-03T00:41:44.467100Z"
    }
   },
   "outputs": [
    {
     "data": {
      "text/plain": [
       "CUAUHTEMOC                0.155440\n",
       "IZTAPALAPA                0.150752\n",
       "GUSTAVO A MADERO          0.100740\n",
       "BENITO JUAREZ             0.086879\n",
       "COYOACAN                  0.068125\n",
       "ALVARO OBREGON            0.068045\n",
       "MIGUEL HIDALGO            0.067126\n",
       "TLALPAN                   0.059241\n",
       "VENUSTIANO CARRANZA       0.058502\n",
       "AZCAPOTZALCO              0.049801\n",
       "IZTACALCO                 0.043632\n",
       "XOCHIMILCO                0.031325\n",
       "TLAHUAC                   0.023246\n",
       "LA MAGDALENA CONTRERAS    0.015919\n",
       "CUAJIMALPA DE MORELOS     0.014612\n",
       "MILPA ALTA                0.006615\n",
       "Name: alcaldia_hechos, dtype: float64"
      ]
     },
     "execution_count": 47,
     "metadata": {},
     "output_type": "execute_result"
    }
   ],
   "source": [
    "df_r['alcaldia_hechos'].value_counts(1, dropna = False)"
   ]
  },
  {
   "cell_type": "markdown",
   "metadata": {},
   "source": [
    "Como se muestra son Cuahutemoc e Iztapalapa aquellas con mayor proporcion de delitos asi como Milpa Alta aquella que se registra con menos, posiblemente gran parte de esta diferencia sea por el interes o seguimiento de los afectados para denunciar.\n",
    "\n",
    "Tambien puede deberse a que estas alcaldías son aquellas de bastante afluencia ya que posiblemente son las que sirven como paso hacia las zonas de trabajo."
   ]
  },
  {
   "cell_type": "markdown",
   "metadata": {},
   "source": [
    "# ¿Existe alguna tendencia estacional en la ocurrencia de delitos (mes, semana, día de la semana, quincenas) en la CDMX? ¿A qué crees que se deba?"
   ]
  },
  {
   "cell_type": "code",
   "execution_count": 48,
   "metadata": {
    "ExecuteTime": {
     "end_time": "2021-08-03T00:41:45.242410Z",
     "start_time": "2021-08-03T00:41:44.547057Z"
    }
   },
   "outputs": [],
   "source": [
    "df_r['fecha_hechos'] = pd.to_datetime(df_r.fecha_hechos)"
   ]
  },
  {
   "cell_type": "code",
   "execution_count": 49,
   "metadata": {
    "ExecuteTime": {
     "end_time": "2021-08-03T00:41:45.511928Z",
     "start_time": "2021-08-03T00:41:45.244544Z"
    }
   },
   "outputs": [],
   "source": [
    "df_r['fecha_hechos'] = df_r['fecha_hechos'].dt.date"
   ]
  },
  {
   "cell_type": "code",
   "execution_count": 50,
   "metadata": {
    "ExecuteTime": {
     "end_time": "2021-08-03T00:41:45.670202Z",
     "start_time": "2021-08-03T00:41:45.514635Z"
    }
   },
   "outputs": [],
   "source": [
    "df_r['mes_hechos'] = pd.Categorical(df_r.mes_hechos, ordered=True, categories=['Enero', 'Febrero', 'Marzo', 'Abril', 'Mayo', 'Junio', \n",
    "                                                          'Julio', 'Agosto', 'Septiembre', 'Octubre', 'Noviembre', 'Diciembre'])"
   ]
  },
  {
   "cell_type": "code",
   "execution_count": 51,
   "metadata": {
    "ExecuteTime": {
     "end_time": "2021-08-03T00:41:46.143951Z",
     "start_time": "2021-08-03T00:41:45.671207Z"
    }
   },
   "outputs": [],
   "source": [
    "df_daily = df_r[['fecha_hechos']+ls_categoria_delito].copy().groupby('fecha_hechos', as_index = False).sum()"
   ]
  },
  {
   "cell_type": "code",
   "execution_count": 52,
   "metadata": {
    "ExecuteTime": {
     "end_time": "2021-08-03T00:41:46.175483Z",
     "start_time": "2021-08-03T00:41:46.145950Z"
    }
   },
   "outputs": [],
   "source": [
    "df_daily_2 = pd.melt(df_daily,id_vars=['fecha_hechos'],value_vars=ls_categoria_delito).groupby('fecha_hechos', as_index = False).sum()"
   ]
  },
  {
   "cell_type": "code",
   "execution_count": 53,
   "metadata": {
    "ExecuteTime": {
     "end_time": "2021-08-03T00:41:46.190712Z",
     "start_time": "2021-08-03T00:41:46.177499Z"
    }
   },
   "outputs": [],
   "source": [
    "df_daily_2['fecha_hechos'] = pd.to_datetime(df_daily_2['fecha_hechos'])\n",
    "df_daily_2.set_index('fecha_hechos',inplace=True)"
   ]
  },
  {
   "cell_type": "code",
   "execution_count": 54,
   "metadata": {
    "ExecuteTime": {
     "end_time": "2021-08-03T00:41:46.206646Z",
     "start_time": "2021-08-03T00:41:46.191549Z"
    }
   },
   "outputs": [],
   "source": [
    "df_daily_2['Year'] = df_daily_2.index.year\n",
    "df_daily_2['Month'] = df_daily_2.index.month\n",
    "df_daily_2['Weekday Name'] = df_daily_2.index.day_name()"
   ]
  },
  {
   "cell_type": "code",
   "execution_count": 55,
   "metadata": {
    "ExecuteTime": {
     "end_time": "2021-08-03T00:41:46.222127Z",
     "start_time": "2021-08-03T00:41:46.207370Z"
    }
   },
   "outputs": [],
   "source": [
    "df_weekly_mean = df_daily_2['value'].resample('W').mean()"
   ]
  },
  {
   "cell_type": "code",
   "execution_count": 56,
   "metadata": {
    "ExecuteTime": {
     "end_time": "2021-08-03T00:41:46.362478Z",
     "start_time": "2021-08-03T00:41:46.223129Z"
    }
   },
   "outputs": [
    {
     "name": "stderr",
     "output_type": "stream",
     "text": [
      "C:\\Users\\Ideapad\\Anaconda3\\lib\\site-packages\\statsmodels\\tools\\_testing.py:19: FutureWarning: pandas.util.testing is deprecated. Use the functions in the public API at pandas.testing instead.\n",
      "  import pandas.util.testing as tm\n"
     ]
    }
   ],
   "source": [
    "import seaborn as sns\n",
    "sns.set(rc={'figure.figsize':(11, 4)})"
   ]
  },
  {
   "cell_type": "code",
   "execution_count": 57,
   "metadata": {
    "ExecuteTime": {
     "end_time": "2021-08-03T00:41:46.663113Z",
     "start_time": "2021-08-03T00:41:46.364477Z"
    }
   },
   "outputs": [
    {
     "data": {
      "image/png": "[encoded data removed]",
      "text/plain": [
       "<Figure size 792x288 with 1 Axes>"
      ]
     },
     "metadata": {},
     "output_type": "display_data"
    }
   ],
   "source": [
    "df_daily_2['value'].plot(linewidth=0.5);"
   ]
  },
  {
   "cell_type": "code",
   "execution_count": 58,
   "metadata": {
    "ExecuteTime": {
     "end_time": "2021-08-03T00:41:47.092030Z",
     "start_time": "2021-08-03T00:41:46.665070Z"
    }
   },
   "outputs": [
    {
     "data": {
      "image/png": "[encoded data removed]",
      "text/plain": [
       "<Figure size 792x288 with 1 Axes>"
      ]
     },
     "metadata": {},
     "output_type": "display_data"
    }
   ],
   "source": [
    "fig, ax = plt.subplots()\n",
    "ax.plot(df_daily_2['value'],\n",
    "marker='.', linestyle='-', linewidth=0.5, label='Daily')\n",
    "ax.plot(df_weekly_mean,\n",
    "marker='o', markersize=4, linestyle='-', label='Weekly Mean')\n",
    "ax.legend();"
   ]
  },
  {
   "cell_type": "code",
   "execution_count": 59,
   "metadata": {
    "ExecuteTime": {
     "end_time": "2021-08-03T00:41:47.424245Z",
     "start_time": "2021-08-03T00:41:47.094025Z"
    }
   },
   "outputs": [
    {
     "data": {
      "text/plain": [
       "<matplotlib.axes._subplots.AxesSubplot at 0x272ce144b70>"
      ]
     },
     "execution_count": 59,
     "metadata": {},
     "output_type": "execute_result"
    },
    {
     "data": {
      "image/png": "[encoded data removed]",
      "text/plain": [
       "<Figure size 792x288 with 1 Axes>"
      ]
     },
     "metadata": {},
     "output_type": "display_data"
    }
   ],
   "source": [
    "sns.boxplot(data=df_daily_2, x='Month', y='value')"
   ]
  },
  {
   "cell_type": "code",
   "execution_count": 60,
   "metadata": {
    "ExecuteTime": {
     "end_time": "2021-08-03T00:41:47.677154Z",
     "start_time": "2021-08-03T00:41:47.425948Z"
    }
   },
   "outputs": [
    {
     "data": {
      "text/plain": [
       "<matplotlib.axes._subplots.AxesSubplot at 0x272ce28def0>"
      ]
     },
     "execution_count": 60,
     "metadata": {},
     "output_type": "execute_result"
    },
    {
     "data": {
      "image/png": "[encoded data removed]",
      "text/plain": [
       "<Figure size 792x288 with 1 Axes>"
      ]
     },
     "metadata": {},
     "output_type": "display_data"
    }
   ],
   "source": [
    "sns.boxplot(data=df_daily_2, x='Weekday Name', y='value')"
   ]
  },
  {
   "cell_type": "markdown",
   "metadata": {},
   "source": [
    "En las evidencias anteriormente generadas, se nota una tendencia creciente hasta inicios del 2019, el cual durante ese año las cantidades empezaron a disminuir.\n",
    "\n",
    "Sin embargo a inicios del 2020 se observa un repunte abrupto a niveles de años anteriores a 2019.\n",
    "\n",
    "Cabe tomar en cuenta que es notoria la aparición de la pandemia generada por el COVID-19 ya que la caida estrepitosa observada, seguramente se debe a las medidas de confinamiento.\n",
    "\n",
    "#### Estacionalidades iniciales\n",
    "\n",
    "Durante los años se encuentra que existe una mayor cantidad de incidencias en Febrero y Marzo, ya que posiblemente vaya de la mano del retorno en fiestas decembrinas. Sin embargo en Junio es donde se observa una mayor amplitud, es decir cabe la posibilidad de que ciertas actividades incrementen como el robo de casa habitación debido al inicio de la temporada vacacional.\n",
    "\n",
    "Contraintuitivamente, se nota una baja en Diciembre posibilemente debido a la epoca de las fiestas decembrinas y fin de año.\n",
    "\n",
    "En cuanto al periodo semanal se encuentra que la mayoria de las incidencias ocurren en Viernes y se mantiene mas bajo en fines de semana."
   ]
  },
  {
   "cell_type": "markdown",
   "metadata": {},
   "source": [
    "# ¿Cuáles son los delitos que más caracterizan a cada alcaldía? Es decir, delitos que suceden con mayor frecuencia en una alcaldía y con menor frecuencia en las demás."
   ]
  },
  {
   "cell_type": "code",
   "execution_count": 61,
   "metadata": {
    "ExecuteTime": {
     "end_time": "2021-08-03T00:41:47.914326Z",
     "start_time": "2021-08-03T00:41:47.679020Z"
    }
   },
   "outputs": [],
   "source": [
    "df_cdmx = df_r[['alcaldia_hechos']+ls_categoria_delito].copy().groupby(['alcaldia_hechos'], as_index = False).sum()"
   ]
  },
  {
   "cell_type": "code",
   "execution_count": 62,
   "metadata": {
    "ExecuteTime": {
     "end_time": "2021-08-03T00:41:47.930324Z",
     "start_time": "2021-08-03T00:41:47.916365Z"
    }
   },
   "outputs": [],
   "source": [
    "df_cdmx_2 = pd.melt(df_cdmx, id_vars=['alcaldia_hechos'], value_vars= ls_categoria_delito)"
   ]
  },
  {
   "cell_type": "code",
   "execution_count": 63,
   "metadata": {
    "ExecuteTime": {
     "end_time": "2021-08-03T00:41:47.945712Z",
     "start_time": "2021-08-03T00:41:47.932284Z"
    }
   },
   "outputs": [],
   "source": [
    "df_max = df_cdmx_2.groupby(['alcaldia_hechos']).agg({'value':['max']})"
   ]
  },
  {
   "cell_type": "code",
   "execution_count": 64,
   "metadata": {
    "ExecuteTime": {
     "end_time": "2021-08-03T00:41:47.961334Z",
     "start_time": "2021-08-03T00:41:47.946710Z"
    }
   },
   "outputs": [],
   "source": [
    "df_max.columns = [\"\".join(x).replace('max','') for x in df_max.columns]"
   ]
  },
  {
   "cell_type": "code",
   "execution_count": 65,
   "metadata": {
    "ExecuteTime": {
     "end_time": "2021-08-03T00:41:47.977088Z",
     "start_time": "2021-08-03T00:41:47.963293Z"
    }
   },
   "outputs": [],
   "source": [
    "df_max.reset_index(inplace=True)"
   ]
  },
  {
   "cell_type": "code",
   "execution_count": 66,
   "metadata": {
    "ExecuteTime": {
     "end_time": "2021-08-03T00:41:47.992559Z",
     "start_time": "2021-08-03T00:41:47.978126Z"
    }
   },
   "outputs": [
    {
     "data": {
      "text/html": [
       "<div>\n",
       "<style scoped>\n",
       "    .dataframe tbody tr th:only-of-type {\n",
       "        vertical-align: middle;\n",
       "    }\n",
       "\n",
       "    .dataframe tbody tr th {\n",
       "        vertical-align: top;\n",
       "    }\n",
       "\n",
       "    .dataframe thead th {\n",
       "        text-align: right;\n",
       "    }\n",
       "</style>\n",
       "<table border=\"1\" class=\"dataframe\">\n",
       "  <thead>\n",
       "    <tr style=\"text-align: right;\">\n",
       "      <th></th>\n",
       "      <th>alcaldia_hechos</th>\n",
       "      <th>value</th>\n",
       "      <th>variable</th>\n",
       "    </tr>\n",
       "  </thead>\n",
       "  <tbody>\n",
       "    <tr>\n",
       "      <th>0</th>\n",
       "      <td>ALVARO OBREGON</td>\n",
       "      <td>51861.0</td>\n",
       "      <td>DELITO DE BAJO IMPACTO</td>\n",
       "    </tr>\n",
       "    <tr>\n",
       "      <th>1</th>\n",
       "      <td>AZCAPOTZALCO</td>\n",
       "      <td>37485.0</td>\n",
       "      <td>DELITO DE BAJO IMPACTO</td>\n",
       "    </tr>\n",
       "    <tr>\n",
       "      <th>2</th>\n",
       "      <td>BENITO JUAREZ</td>\n",
       "      <td>69920.0</td>\n",
       "      <td>DELITO DE BAJO IMPACTO</td>\n",
       "    </tr>\n",
       "    <tr>\n",
       "      <th>3</th>\n",
       "      <td>COYOACAN</td>\n",
       "      <td>53112.0</td>\n",
       "      <td>DELITO DE BAJO IMPACTO</td>\n",
       "    </tr>\n",
       "    <tr>\n",
       "      <th>4</th>\n",
       "      <td>CUAJIMALPA DE MORELOS</td>\n",
       "      <td>12406.0</td>\n",
       "      <td>DELITO DE BAJO IMPACTO</td>\n",
       "    </tr>\n",
       "    <tr>\n",
       "      <th>5</th>\n",
       "      <td>CUAUHTEMOC</td>\n",
       "      <td>117188.0</td>\n",
       "      <td>DELITO DE BAJO IMPACTO</td>\n",
       "    </tr>\n",
       "    <tr>\n",
       "      <th>6</th>\n",
       "      <td>GUSTAVO A MADERO</td>\n",
       "      <td>71921.0</td>\n",
       "      <td>DELITO DE BAJO IMPACTO</td>\n",
       "    </tr>\n",
       "    <tr>\n",
       "      <th>7</th>\n",
       "      <td>IZTACALCO</td>\n",
       "      <td>30868.0</td>\n",
       "      <td>DELITO DE BAJO IMPACTO</td>\n",
       "    </tr>\n",
       "    <tr>\n",
       "      <th>8</th>\n",
       "      <td>IZTAPALAPA</td>\n",
       "      <td>103795.0</td>\n",
       "      <td>DELITO DE BAJO IMPACTO</td>\n",
       "    </tr>\n",
       "    <tr>\n",
       "      <th>9</th>\n",
       "      <td>LA MAGDALENA CONTRERAS</td>\n",
       "      <td>12798.0</td>\n",
       "      <td>DELITO DE BAJO IMPACTO</td>\n",
       "    </tr>\n",
       "    <tr>\n",
       "      <th>10</th>\n",
       "      <td>MIGUEL HIDALGO</td>\n",
       "      <td>50263.0</td>\n",
       "      <td>DELITO DE BAJO IMPACTO</td>\n",
       "    </tr>\n",
       "    <tr>\n",
       "      <th>11</th>\n",
       "      <td>MILPA ALTA</td>\n",
       "      <td>5295.0</td>\n",
       "      <td>DELITO DE BAJO IMPACTO</td>\n",
       "    </tr>\n",
       "    <tr>\n",
       "      <th>12</th>\n",
       "      <td>TLAHUAC</td>\n",
       "      <td>16719.0</td>\n",
       "      <td>DELITO DE BAJO IMPACTO</td>\n",
       "    </tr>\n",
       "    <tr>\n",
       "      <th>13</th>\n",
       "      <td>TLALPAN</td>\n",
       "      <td>46622.0</td>\n",
       "      <td>DELITO DE BAJO IMPACTO</td>\n",
       "    </tr>\n",
       "    <tr>\n",
       "      <th>14</th>\n",
       "      <td>VENUSTIANO CARRANZA</td>\n",
       "      <td>41721.0</td>\n",
       "      <td>DELITO DE BAJO IMPACTO</td>\n",
       "    </tr>\n",
       "    <tr>\n",
       "      <th>15</th>\n",
       "      <td>XOCHIMILCO</td>\n",
       "      <td>22633.0</td>\n",
       "      <td>DELITO DE BAJO IMPACTO</td>\n",
       "    </tr>\n",
       "  </tbody>\n",
       "</table>\n",
       "</div>"
      ],
      "text/plain": [
       "           alcaldia_hechos     value                variable\n",
       "0           ALVARO OBREGON   51861.0  DELITO DE BAJO IMPACTO\n",
       "1             AZCAPOTZALCO   37485.0  DELITO DE BAJO IMPACTO\n",
       "2            BENITO JUAREZ   69920.0  DELITO DE BAJO IMPACTO\n",
       "3                 COYOACAN   53112.0  DELITO DE BAJO IMPACTO\n",
       "4    CUAJIMALPA DE MORELOS   12406.0  DELITO DE BAJO IMPACTO\n",
       "5               CUAUHTEMOC  117188.0  DELITO DE BAJO IMPACTO\n",
       "6         GUSTAVO A MADERO   71921.0  DELITO DE BAJO IMPACTO\n",
       "7                IZTACALCO   30868.0  DELITO DE BAJO IMPACTO\n",
       "8               IZTAPALAPA  103795.0  DELITO DE BAJO IMPACTO\n",
       "9   LA MAGDALENA CONTRERAS   12798.0  DELITO DE BAJO IMPACTO\n",
       "10          MIGUEL HIDALGO   50263.0  DELITO DE BAJO IMPACTO\n",
       "11              MILPA ALTA    5295.0  DELITO DE BAJO IMPACTO\n",
       "12                 TLAHUAC   16719.0  DELITO DE BAJO IMPACTO\n",
       "13                 TLALPAN   46622.0  DELITO DE BAJO IMPACTO\n",
       "14     VENUSTIANO CARRANZA   41721.0  DELITO DE BAJO IMPACTO\n",
       "15              XOCHIMILCO   22633.0  DELITO DE BAJO IMPACTO"
      ]
     },
     "execution_count": 66,
     "metadata": {},
     "output_type": "execute_result"
    }
   ],
   "source": [
    "df_max.merge(df_cdmx_2, how='left', on=['alcaldia_hechos','value'])"
   ]
  },
  {
   "cell_type": "code",
   "execution_count": 67,
   "metadata": {
    "ExecuteTime": {
     "end_time": "2021-08-03T00:41:48.008517Z",
     "start_time": "2021-08-03T00:41:47.994555Z"
    }
   },
   "outputs": [],
   "source": [
    "df_min = df_cdmx_2.groupby(['alcaldia_hechos']).agg({'value':['min']})\n",
    "df_min_2 = df_cdmx_2[df_cdmx_2.value>0].groupby(['alcaldia_hechos']).agg({'value':['min']})"
   ]
  },
  {
   "cell_type": "code",
   "execution_count": 68,
   "metadata": {
    "ExecuteTime": {
     "end_time": "2021-08-03T00:41:48.024804Z",
     "start_time": "2021-08-03T00:41:48.012534Z"
    }
   },
   "outputs": [],
   "source": [
    "df_min.columns = [\"\".join(x).replace('min','') for x in df_min.columns]\n",
    "df_min_2.columns = [\"\".join(x).replace('min','') for x in df_min_2.columns]"
   ]
  },
  {
   "cell_type": "code",
   "execution_count": 69,
   "metadata": {
    "ExecuteTime": {
     "end_time": "2021-08-03T00:41:48.040556Z",
     "start_time": "2021-08-03T00:41:48.025806Z"
    }
   },
   "outputs": [],
   "source": [
    "df_min.reset_index(inplace=True)\n",
    "df_min_2.reset_index(inplace=True)"
   ]
  },
  {
   "cell_type": "code",
   "execution_count": 70,
   "metadata": {
    "ExecuteTime": {
     "end_time": "2021-08-03T00:41:48.056517Z",
     "start_time": "2021-08-03T00:41:48.041555Z"
    }
   },
   "outputs": [
    {
     "data": {
      "text/html": [
       "<div>\n",
       "<style scoped>\n",
       "    .dataframe tbody tr th:only-of-type {\n",
       "        vertical-align: middle;\n",
       "    }\n",
       "\n",
       "    .dataframe tbody tr th {\n",
       "        vertical-align: top;\n",
       "    }\n",
       "\n",
       "    .dataframe thead th {\n",
       "        text-align: right;\n",
       "    }\n",
       "</style>\n",
       "<table border=\"1\" class=\"dataframe\">\n",
       "  <thead>\n",
       "    <tr style=\"text-align: right;\">\n",
       "      <th></th>\n",
       "      <th>alcaldia_hechos</th>\n",
       "      <th>value</th>\n",
       "      <th>variable</th>\n",
       "    </tr>\n",
       "  </thead>\n",
       "  <tbody>\n",
       "    <tr>\n",
       "      <th>0</th>\n",
       "      <td>ALVARO OBREGON</td>\n",
       "      <td>0.0</td>\n",
       "      <td>FEMINICIDIO</td>\n",
       "    </tr>\n",
       "    <tr>\n",
       "      <th>1</th>\n",
       "      <td>AZCAPOTZALCO</td>\n",
       "      <td>0.0</td>\n",
       "      <td>FEMINICIDIO</td>\n",
       "    </tr>\n",
       "    <tr>\n",
       "      <th>2</th>\n",
       "      <td>BENITO JUAREZ</td>\n",
       "      <td>1.0</td>\n",
       "      <td>FEMINICIDIO</td>\n",
       "    </tr>\n",
       "    <tr>\n",
       "      <th>3</th>\n",
       "      <td>COYOACAN</td>\n",
       "      <td>0.0</td>\n",
       "      <td>FEMINICIDIO</td>\n",
       "    </tr>\n",
       "    <tr>\n",
       "      <th>4</th>\n",
       "      <td>CUAJIMALPA DE MORELOS</td>\n",
       "      <td>0.0</td>\n",
       "      <td>FEMINICIDIO</td>\n",
       "    </tr>\n",
       "    <tr>\n",
       "      <th>5</th>\n",
       "      <td>CUAUHTEMOC</td>\n",
       "      <td>0.0</td>\n",
       "      <td>FEMINICIDIO</td>\n",
       "    </tr>\n",
       "    <tr>\n",
       "      <th>6</th>\n",
       "      <td>GUSTAVO A MADERO</td>\n",
       "      <td>0.0</td>\n",
       "      <td>FEMINICIDIO</td>\n",
       "    </tr>\n",
       "    <tr>\n",
       "      <th>7</th>\n",
       "      <td>IZTACALCO</td>\n",
       "      <td>0.0</td>\n",
       "      <td>FEMINICIDIO</td>\n",
       "    </tr>\n",
       "    <tr>\n",
       "      <th>8</th>\n",
       "      <td>IZTAPALAPA</td>\n",
       "      <td>0.0</td>\n",
       "      <td>FEMINICIDIO</td>\n",
       "    </tr>\n",
       "    <tr>\n",
       "      <th>9</th>\n",
       "      <td>LA MAGDALENA CONTRERAS</td>\n",
       "      <td>0.0</td>\n",
       "      <td>ROBO A TRANSPORTISTA CON Y SIN VIOLENCIA</td>\n",
       "    </tr>\n",
       "    <tr>\n",
       "      <th>10</th>\n",
       "      <td>LA MAGDALENA CONTRERAS</td>\n",
       "      <td>0.0</td>\n",
       "      <td>FEMINICIDIO</td>\n",
       "    </tr>\n",
       "    <tr>\n",
       "      <th>11</th>\n",
       "      <td>MIGUEL HIDALGO</td>\n",
       "      <td>0.0</td>\n",
       "      <td>FEMINICIDIO</td>\n",
       "    </tr>\n",
       "    <tr>\n",
       "      <th>12</th>\n",
       "      <td>MILPA ALTA</td>\n",
       "      <td>0.0</td>\n",
       "      <td>ROBO A TRANSPORTISTA CON Y SIN VIOLENCIA</td>\n",
       "    </tr>\n",
       "    <tr>\n",
       "      <th>13</th>\n",
       "      <td>MILPA ALTA</td>\n",
       "      <td>0.0</td>\n",
       "      <td>FEMINICIDIO</td>\n",
       "    </tr>\n",
       "    <tr>\n",
       "      <th>14</th>\n",
       "      <td>TLAHUAC</td>\n",
       "      <td>0.0</td>\n",
       "      <td>FEMINICIDIO</td>\n",
       "    </tr>\n",
       "    <tr>\n",
       "      <th>15</th>\n",
       "      <td>TLALPAN</td>\n",
       "      <td>0.0</td>\n",
       "      <td>FEMINICIDIO</td>\n",
       "    </tr>\n",
       "    <tr>\n",
       "      <th>16</th>\n",
       "      <td>VENUSTIANO CARRANZA</td>\n",
       "      <td>0.0</td>\n",
       "      <td>FEMINICIDIO</td>\n",
       "    </tr>\n",
       "    <tr>\n",
       "      <th>17</th>\n",
       "      <td>XOCHIMILCO</td>\n",
       "      <td>0.0</td>\n",
       "      <td>FEMINICIDIO</td>\n",
       "    </tr>\n",
       "  </tbody>\n",
       "</table>\n",
       "</div>"
      ],
      "text/plain": [
       "           alcaldia_hechos  value                                  variable\n",
       "0           ALVARO OBREGON    0.0                               FEMINICIDIO\n",
       "1             AZCAPOTZALCO    0.0                               FEMINICIDIO\n",
       "2            BENITO JUAREZ    1.0                               FEMINICIDIO\n",
       "3                 COYOACAN    0.0                               FEMINICIDIO\n",
       "4    CUAJIMALPA DE MORELOS    0.0                               FEMINICIDIO\n",
       "5               CUAUHTEMOC    0.0                               FEMINICIDIO\n",
       "6         GUSTAVO A MADERO    0.0                               FEMINICIDIO\n",
       "7                IZTACALCO    0.0                               FEMINICIDIO\n",
       "8               IZTAPALAPA    0.0                               FEMINICIDIO\n",
       "9   LA MAGDALENA CONTRERAS    0.0  ROBO A TRANSPORTISTA CON Y SIN VIOLENCIA\n",
       "10  LA MAGDALENA CONTRERAS    0.0                               FEMINICIDIO\n",
       "11          MIGUEL HIDALGO    0.0                               FEMINICIDIO\n",
       "12              MILPA ALTA    0.0  ROBO A TRANSPORTISTA CON Y SIN VIOLENCIA\n",
       "13              MILPA ALTA    0.0                               FEMINICIDIO\n",
       "14                 TLAHUAC    0.0                               FEMINICIDIO\n",
       "15                 TLALPAN    0.0                               FEMINICIDIO\n",
       "16     VENUSTIANO CARRANZA    0.0                               FEMINICIDIO\n",
       "17              XOCHIMILCO    0.0                               FEMINICIDIO"
      ]
     },
     "execution_count": 70,
     "metadata": {},
     "output_type": "execute_result"
    }
   ],
   "source": [
    "df_min.merge(df_cdmx_2, how='left', on=['alcaldia_hechos','value'])"
   ]
  },
  {
   "cell_type": "code",
   "execution_count": 71,
   "metadata": {
    "ExecuteTime": {
     "end_time": "2021-08-03T00:41:48.072473Z",
     "start_time": "2021-08-03T00:41:48.057514Z"
    }
   },
   "outputs": [
    {
     "data": {
      "text/html": [
       "<div>\n",
       "<style scoped>\n",
       "    .dataframe tbody tr th:only-of-type {\n",
       "        vertical-align: middle;\n",
       "    }\n",
       "\n",
       "    .dataframe tbody tr th {\n",
       "        vertical-align: top;\n",
       "    }\n",
       "\n",
       "    .dataframe thead th {\n",
       "        text-align: right;\n",
       "    }\n",
       "</style>\n",
       "<table border=\"1\" class=\"dataframe\">\n",
       "  <thead>\n",
       "    <tr style=\"text-align: right;\">\n",
       "      <th></th>\n",
       "      <th>alcaldia_hechos</th>\n",
       "      <th>value</th>\n",
       "      <th>variable</th>\n",
       "    </tr>\n",
       "  </thead>\n",
       "  <tbody>\n",
       "    <tr>\n",
       "      <th>0</th>\n",
       "      <td>ALVARO OBREGON</td>\n",
       "      <td>3.0</td>\n",
       "      <td>ROBO A TRANSPORTISTA CON Y SIN VIOLENCIA</td>\n",
       "    </tr>\n",
       "    <tr>\n",
       "      <th>1</th>\n",
       "      <td>AZCAPOTZALCO</td>\n",
       "      <td>5.0</td>\n",
       "      <td>SECUESTRO</td>\n",
       "    </tr>\n",
       "    <tr>\n",
       "      <th>2</th>\n",
       "      <td>BENITO JUAREZ</td>\n",
       "      <td>1.0</td>\n",
       "      <td>FEMINICIDIO</td>\n",
       "    </tr>\n",
       "    <tr>\n",
       "      <th>3</th>\n",
       "      <td>COYOACAN</td>\n",
       "      <td>6.0</td>\n",
       "      <td>SECUESTRO</td>\n",
       "    </tr>\n",
       "    <tr>\n",
       "      <th>4</th>\n",
       "      <td>CUAJIMALPA DE MORELOS</td>\n",
       "      <td>1.0</td>\n",
       "      <td>ROBO A PASAJERO A BORDO DEL METRO CON Y SIN VI...</td>\n",
       "    </tr>\n",
       "    <tr>\n",
       "      <th>5</th>\n",
       "      <td>CUAUHTEMOC</td>\n",
       "      <td>17.0</td>\n",
       "      <td>SECUESTRO</td>\n",
       "    </tr>\n",
       "    <tr>\n",
       "      <th>6</th>\n",
       "      <td>GUSTAVO A MADERO</td>\n",
       "      <td>16.0</td>\n",
       "      <td>SECUESTRO</td>\n",
       "    </tr>\n",
       "    <tr>\n",
       "      <th>7</th>\n",
       "      <td>IZTACALCO</td>\n",
       "      <td>4.0</td>\n",
       "      <td>SECUESTRO</td>\n",
       "    </tr>\n",
       "    <tr>\n",
       "      <th>8</th>\n",
       "      <td>IZTAPALAPA</td>\n",
       "      <td>48.0</td>\n",
       "      <td>SECUESTRO</td>\n",
       "    </tr>\n",
       "    <tr>\n",
       "      <th>9</th>\n",
       "      <td>LA MAGDALENA CONTRERAS</td>\n",
       "      <td>2.0</td>\n",
       "      <td>ROBO A PASAJERO A BORDO DEL METRO CON Y SIN VI...</td>\n",
       "    </tr>\n",
       "    <tr>\n",
       "      <th>10</th>\n",
       "      <td>MIGUEL HIDALGO</td>\n",
       "      <td>5.0</td>\n",
       "      <td>SECUESTRO</td>\n",
       "    </tr>\n",
       "    <tr>\n",
       "      <th>11</th>\n",
       "      <td>MILPA ALTA</td>\n",
       "      <td>1.0</td>\n",
       "      <td>ROBO A PASAJERO A BORDO DEL METRO CON Y SIN VI...</td>\n",
       "    </tr>\n",
       "    <tr>\n",
       "      <th>12</th>\n",
       "      <td>TLAHUAC</td>\n",
       "      <td>8.0</td>\n",
       "      <td>ROBO A TRANSPORTISTA CON Y SIN VIOLENCIA</td>\n",
       "    </tr>\n",
       "    <tr>\n",
       "      <th>13</th>\n",
       "      <td>TLALPAN</td>\n",
       "      <td>1.0</td>\n",
       "      <td>ROBO A PASAJERO A BORDO DEL METRO CON Y SIN VI...</td>\n",
       "    </tr>\n",
       "    <tr>\n",
       "      <th>14</th>\n",
       "      <td>VENUSTIANO CARRANZA</td>\n",
       "      <td>5.0</td>\n",
       "      <td>SECUESTRO</td>\n",
       "    </tr>\n",
       "    <tr>\n",
       "      <th>15</th>\n",
       "      <td>XOCHIMILCO</td>\n",
       "      <td>2.0</td>\n",
       "      <td>ROBO A PASAJERO A BORDO DEL METRO CON Y SIN VI...</td>\n",
       "    </tr>\n",
       "  </tbody>\n",
       "</table>\n",
       "</div>"
      ],
      "text/plain": [
       "           alcaldia_hechos  value  \\\n",
       "0           ALVARO OBREGON    3.0   \n",
       "1             AZCAPOTZALCO    5.0   \n",
       "2            BENITO JUAREZ    1.0   \n",
       "3                 COYOACAN    6.0   \n",
       "4    CUAJIMALPA DE MORELOS    1.0   \n",
       "5               CUAUHTEMOC   17.0   \n",
       "6         GUSTAVO A MADERO   16.0   \n",
       "7                IZTACALCO    4.0   \n",
       "8               IZTAPALAPA   48.0   \n",
       "9   LA MAGDALENA CONTRERAS    2.0   \n",
       "10          MIGUEL HIDALGO    5.0   \n",
       "11              MILPA ALTA    1.0   \n",
       "12                 TLAHUAC    8.0   \n",
       "13                 TLALPAN    1.0   \n",
       "14     VENUSTIANO CARRANZA    5.0   \n",
       "15              XOCHIMILCO    2.0   \n",
       "\n",
       "                                             variable  \n",
       "0            ROBO A TRANSPORTISTA CON Y SIN VIOLENCIA  \n",
       "1                                           SECUESTRO  \n",
       "2                                         FEMINICIDIO  \n",
       "3                                           SECUESTRO  \n",
       "4   ROBO A PASAJERO A BORDO DEL METRO CON Y SIN VI...  \n",
       "5                                           SECUESTRO  \n",
       "6                                           SECUESTRO  \n",
       "7                                           SECUESTRO  \n",
       "8                                           SECUESTRO  \n",
       "9   ROBO A PASAJERO A BORDO DEL METRO CON Y SIN VI...  \n",
       "10                                          SECUESTRO  \n",
       "11  ROBO A PASAJERO A BORDO DEL METRO CON Y SIN VI...  \n",
       "12           ROBO A TRANSPORTISTA CON Y SIN VIOLENCIA  \n",
       "13  ROBO A PASAJERO A BORDO DEL METRO CON Y SIN VI...  \n",
       "14                                          SECUESTRO  \n",
       "15  ROBO A PASAJERO A BORDO DEL METRO CON Y SIN VI...  "
      ]
     },
     "execution_count": 71,
     "metadata": {},
     "output_type": "execute_result"
    }
   ],
   "source": [
    "df_min_2.merge(df_cdmx_2, how='left', on=['alcaldia_hechos','value'])"
   ]
  },
  {
   "cell_type": "markdown",
   "metadata": {},
   "source": [
    "Como el delito de mayor frecuencia en general son aquellos denominados de Bajo Impacto.\n",
    "\n",
    "El de menor frecuencia, tecnicamente sería el tipificado como Feminicidio pero debido a su reciente adición se omitirá,\n",
    "ya que no se tiene suficiente información.\n",
    "\n",
    "Por lo que se realizo un nuevo analisis respecto a los restantes\n",
    "\n",
    "- ROBO A PASAJERO A BORDO DEL METRO:\n",
    " - CUAJIMALPA DE MORELOS \n",
    " - LA MAGDALENA CONTRERAS \n",
    " - MILPA ALTA \n",
    " - TLALPAN \n",
    " - XOCHIMILCO\n",
    "     \n",
    "- SECUESTRO:\n",
    " - AZCAPOTZALCO\n",
    " - COYOACAN\n",
    " - CUAUHTEMOC\n",
    " - GUSTAVO A MADERO \n",
    " - IZTACALCO \n",
    " - IZTAPALAPA\n",
    "    \n",
    "- ROBO A TRANSPORTISTA: \n",
    " - ALVARO OBREGON\n",
    " - TLAHUAC\n",
    " \n",
    "- FEMINICIDIO :\n",
    " - BENITO JUAREZ"
   ]
  },
  {
   "cell_type": "markdown",
   "metadata": {},
   "source": [
    "# Diseña un indicador que mida el nivel de “inseguridad”. Genéralo al nivel de desagregación que te parezca más adecuado (ej. manzana, calle, AGEB, etc.). Analiza los resultados ¿Encontraste algún patrón interesante? ¿Qué decisiones se podrían tomar con el indicador?"
   ]
  },
  {
   "cell_type": "code",
   "execution_count": 94,
   "metadata": {
    "ExecuteTime": {
     "end_time": "2021-08-03T01:27:34.630018Z",
     "start_time": "2021-08-03T01:27:34.131396Z"
    }
   },
   "outputs": [
    {
     "name": "stderr",
     "output_type": "stream",
     "text": [
      "C:\\Users\\Ideapad\\Anaconda3\\lib\\site-packages\\ipykernel_launcher.py:2: SettingWithCopyWarning: \n",
      "A value is trying to be set on a copy of a slice from a DataFrame.\n",
      "Try using .loc[row_indexer,col_indexer] = value instead\n",
      "\n",
      "See the caveats in the documentation: https://pandas.pydata.org/pandas-docs/stable/user_guide/indexing.html#returning-a-view-versus-a-copy\n",
      "  \n",
      "C:\\Users\\Ideapad\\Anaconda3\\lib\\site-packages\\ipykernel_launcher.py:4: SettingWithCopyWarning: \n",
      "A value is trying to be set on a copy of a slice from a DataFrame.\n",
      "Try using .loc[row_indexer,col_indexer] = value instead\n",
      "\n",
      "See the caveats in the documentation: https://pandas.pydata.org/pandas-docs/stable/user_guide/indexing.html#returning-a-view-versus-a-copy\n",
      "  after removing the cwd from sys.path.\n",
      "C:\\Users\\Ideapad\\Anaconda3\\lib\\site-packages\\ipykernel_launcher.py:5: SettingWithCopyWarning: \n",
      "A value is trying to be set on a copy of a slice from a DataFrame.\n",
      "Try using .loc[row_indexer,col_indexer] = value instead\n",
      "\n",
      "See the caveats in the documentation: https://pandas.pydata.org/pandas-docs/stable/user_guide/indexing.html#returning-a-view-versus-a-copy\n",
      "  \"\"\"\n"
     ]
    }
   ],
   "source": [
    "df_score = df_r[['alcaldia_hechos','fecha_hechos','longitud','latitud','n_count']+ls_categoria_delito]\n",
    "df_score['fecha_hechos'] = pd.to_datetime(df_score['fecha_hechos'])\n",
    "# df_score['Year'] = df_score['fecha_hechos'].dt.year\n",
    "df_score['Month'] = df_score['fecha_hechos'].dt.month\n",
    "df_score['Weekday Name'] = df_score['fecha_hechos'].dt.day_name()"
   ]
  },
  {
   "cell_type": "code",
   "execution_count": 95,
   "metadata": {
    "ExecuteTime": {
     "end_time": "2021-08-03T01:27:36.524331Z",
     "start_time": "2021-08-03T01:27:35.242791Z"
    },
    "scrolled": true
   },
   "outputs": [],
   "source": [
    "df_score.set_index(['alcaldia_hechos','fecha_hechos','Month', 'Weekday Name','longitud','latitud','n_count'], inplace=True)"
   ]
  },
  {
   "cell_type": "code",
   "execution_count": 96,
   "metadata": {
    "ExecuteTime": {
     "end_time": "2021-08-03T01:27:39.984882Z",
     "start_time": "2021-08-03T01:27:39.972331Z"
    }
   },
   "outputs": [
    {
     "data": {
      "text/plain": [
       "Index(['DELITO DE BAJO IMPACTO', 'ROBO DE VEHÍCULO CON Y SIN VIOLENCIA',\n",
       "       'ROBO A TRANSEUNTE EN VÍA PÚBLICA CON Y SIN VIOLENCIA',\n",
       "       'LESIONES DOLOSAS POR DISPARO DE ARMA DE FUEGO', 'HECHO NO DELICTIVO',\n",
       "       'ROBO A NEGOCIO CON VIOLENCIA', 'ROBO A CASA HABITACIÓN CON VIOLENCIA',\n",
       "       'ROBO A PASAJERO A BORDO DE MICROBUS CON Y SIN VIOLENCIA', 'VIOLACIÓN',\n",
       "       'ROBO A TRANSPORTISTA CON Y SIN VIOLENCIA',\n",
       "       'ROBO A CUENTAHABIENTE SALIENDO DEL CAJERO CON VIOLENCIA',\n",
       "       'ROBO A REPARTIDOR CON Y SIN VIOLENCIA', 'HOMICIDIO DOLOSO',\n",
       "       'ROBO A PASAJERO A BORDO DE TAXI CON VIOLENCIA',\n",
       "       'ROBO A PASAJERO A BORDO DEL METRO CON Y SIN VIOLENCIA', 'SECUESTRO',\n",
       "       'FEMINICIDIO'],\n",
       "      dtype='object')"
      ]
     },
     "execution_count": 96,
     "metadata": {},
     "output_type": "execute_result"
    }
   ],
   "source": [
    "df_score.columns"
   ]
  },
  {
   "cell_type": "code",
   "execution_count": 98,
   "metadata": {
    "ExecuteTime": {
     "end_time": "2021-08-03T01:29:33.363279Z",
     "start_time": "2021-08-03T01:29:31.819960Z"
    }
   },
   "outputs": [
    {
     "name": "stderr",
     "output_type": "stream",
     "text": [
      "C:\\Users\\Ideapad\\Anaconda3\\lib\\site-packages\\ipykernel_launcher.py:1: FutureWarning: In a future version of pandas all arguments of DataFrame.drop except for the argument 'labels' will be keyword-only\n",
      "  \"\"\"Entry point for launching an IPython kernel.\n"
     ]
    }
   ],
   "source": [
    "df_score_2 = df_score[df_score==1].stack().reset_index().drop(0,1)"
   ]
  },
  {
   "cell_type": "code",
   "execution_count": 101,
   "metadata": {
    "ExecuteTime": {
     "end_time": "2021-08-03T01:33:37.366208Z",
     "start_time": "2021-08-03T01:33:37.345089Z"
    }
   },
   "outputs": [
    {
     "data": {
      "text/html": [
       "<div>\n",
       "<style scoped>\n",
       "    .dataframe tbody tr th:only-of-type {\n",
       "        vertical-align: middle;\n",
       "    }\n",
       "\n",
       "    .dataframe tbody tr th {\n",
       "        vertical-align: top;\n",
       "    }\n",
       "\n",
       "    .dataframe thead th {\n",
       "        text-align: right;\n",
       "    }\n",
       "</style>\n",
       "<table border=\"1\" class=\"dataframe\">\n",
       "  <thead>\n",
       "    <tr style=\"text-align: right;\">\n",
       "      <th></th>\n",
       "      <th>alcaldia_hechos</th>\n",
       "      <th>fecha_hechos</th>\n",
       "      <th>Month</th>\n",
       "      <th>Weekday Name</th>\n",
       "      <th>longitud</th>\n",
       "      <th>latitud</th>\n",
       "      <th>n_count</th>\n",
       "      <th>level_7</th>\n",
       "    </tr>\n",
       "  </thead>\n",
       "  <tbody>\n",
       "    <tr>\n",
       "      <th>0</th>\n",
       "      <td>BENITO JUAREZ</td>\n",
       "      <td>2016-01-31</td>\n",
       "      <td>1</td>\n",
       "      <td>Sunday</td>\n",
       "      <td>-99.140215</td>\n",
       "      <td>19.380315</td>\n",
       "      <td>4</td>\n",
       "      <td>DELITO DE BAJO IMPACTO</td>\n",
       "    </tr>\n",
       "    <tr>\n",
       "      <th>1</th>\n",
       "      <td>IZTAPALAPA</td>\n",
       "      <td>2016-01-31</td>\n",
       "      <td>1</td>\n",
       "      <td>Sunday</td>\n",
       "      <td>-99.108403</td>\n",
       "      <td>19.352859</td>\n",
       "      <td>5</td>\n",
       "      <td>ROBO DE VEHÍCULO CON Y SIN VIOLENCIA</td>\n",
       "    </tr>\n",
       "    <tr>\n",
       "      <th>2</th>\n",
       "      <td>IZTAPALAPA</td>\n",
       "      <td>2016-02-01</td>\n",
       "      <td>2</td>\n",
       "      <td>Monday</td>\n",
       "      <td>-99.061321</td>\n",
       "      <td>19.356451</td>\n",
       "      <td>3</td>\n",
       "      <td>DELITO DE BAJO IMPACTO</td>\n",
       "    </tr>\n",
       "    <tr>\n",
       "      <th>3</th>\n",
       "      <td>IZTAPALAPA</td>\n",
       "      <td>2016-01-31</td>\n",
       "      <td>1</td>\n",
       "      <td>Sunday</td>\n",
       "      <td>-98.976379</td>\n",
       "      <td>19.331633</td>\n",
       "      <td>5</td>\n",
       "      <td>ROBO A TRANSEUNTE EN VÍA PÚBLICA CON Y SIN VIO...</td>\n",
       "    </tr>\n",
       "    <tr>\n",
       "      <th>4</th>\n",
       "      <td>CUAUHTEMOC</td>\n",
       "      <td>2016-02-01</td>\n",
       "      <td>2</td>\n",
       "      <td>Monday</td>\n",
       "      <td>-99.174075</td>\n",
       "      <td>19.421356</td>\n",
       "      <td>5</td>\n",
       "      <td>DELITO DE BAJO IMPACTO</td>\n",
       "    </tr>\n",
       "    <tr>\n",
       "      <th>...</th>\n",
       "      <td>...</td>\n",
       "      <td>...</td>\n",
       "      <td>...</td>\n",
       "      <td>...</td>\n",
       "      <td>...</td>\n",
       "      <td>...</td>\n",
       "      <td>...</td>\n",
       "      <td>...</td>\n",
       "    </tr>\n",
       "    <tr>\n",
       "      <th>961712</th>\n",
       "      <td>GUSTAVO A MADERO</td>\n",
       "      <td>2020-06-30</td>\n",
       "      <td>6</td>\n",
       "      <td>Tuesday</td>\n",
       "      <td>-99.134871</td>\n",
       "      <td>19.466284</td>\n",
       "      <td>5</td>\n",
       "      <td>ROBO A TRANSEUNTE EN VÍA PÚBLICA CON Y SIN VIO...</td>\n",
       "    </tr>\n",
       "    <tr>\n",
       "      <th>961713</th>\n",
       "      <td>ALVARO OBREGON</td>\n",
       "      <td>2020-06-29</td>\n",
       "      <td>6</td>\n",
       "      <td>Monday</td>\n",
       "      <td>-99.172309</td>\n",
       "      <td>19.358334</td>\n",
       "      <td>1</td>\n",
       "      <td>DELITO DE BAJO IMPACTO</td>\n",
       "    </tr>\n",
       "    <tr>\n",
       "      <th>961714</th>\n",
       "      <td>ALVARO OBREGON</td>\n",
       "      <td>2019-12-20</td>\n",
       "      <td>12</td>\n",
       "      <td>Friday</td>\n",
       "      <td>-99.201685</td>\n",
       "      <td>19.339645</td>\n",
       "      <td>3</td>\n",
       "      <td>DELITO DE BAJO IMPACTO</td>\n",
       "    </tr>\n",
       "    <tr>\n",
       "      <th>961715</th>\n",
       "      <td>CUAUHTEMOC</td>\n",
       "      <td>2020-06-30</td>\n",
       "      <td>6</td>\n",
       "      <td>Tuesday</td>\n",
       "      <td>-99.143585</td>\n",
       "      <td>19.441199</td>\n",
       "      <td>1</td>\n",
       "      <td>DELITO DE BAJO IMPACTO</td>\n",
       "    </tr>\n",
       "    <tr>\n",
       "      <th>961716</th>\n",
       "      <td>IZTACALCO</td>\n",
       "      <td>2020-06-30</td>\n",
       "      <td>6</td>\n",
       "      <td>Tuesday</td>\n",
       "      <td>-99.127101</td>\n",
       "      <td>19.389455</td>\n",
       "      <td>2</td>\n",
       "      <td>DELITO DE BAJO IMPACTO</td>\n",
       "    </tr>\n",
       "  </tbody>\n",
       "</table>\n",
       "<p>961717 rows × 8 columns</p>\n",
       "</div>"
      ],
      "text/plain": [
       "         alcaldia_hechos fecha_hechos  Month Weekday Name   longitud  \\\n",
       "0          BENITO JUAREZ   2016-01-31      1       Sunday -99.140215   \n",
       "1             IZTAPALAPA   2016-01-31      1       Sunday -99.108403   \n",
       "2             IZTAPALAPA   2016-02-01      2       Monday -99.061321   \n",
       "3             IZTAPALAPA   2016-01-31      1       Sunday -98.976379   \n",
       "4             CUAUHTEMOC   2016-02-01      2       Monday -99.174075   \n",
       "...                  ...          ...    ...          ...        ...   \n",
       "961712  GUSTAVO A MADERO   2020-06-30      6      Tuesday -99.134871   \n",
       "961713    ALVARO OBREGON   2020-06-29      6       Monday -99.172309   \n",
       "961714    ALVARO OBREGON   2019-12-20     12       Friday -99.201685   \n",
       "961715        CUAUHTEMOC   2020-06-30      6      Tuesday -99.143585   \n",
       "961716         IZTACALCO   2020-06-30      6      Tuesday -99.127101   \n",
       "\n",
       "          latitud  n_count                                            level_7  \n",
       "0       19.380315        4                             DELITO DE BAJO IMPACTO  \n",
       "1       19.352859        5               ROBO DE VEHÍCULO CON Y SIN VIOLENCIA  \n",
       "2       19.356451        3                             DELITO DE BAJO IMPACTO  \n",
       "3       19.331633        5  ROBO A TRANSEUNTE EN VÍA PÚBLICA CON Y SIN VIO...  \n",
       "4       19.421356        5                             DELITO DE BAJO IMPACTO  \n",
       "...           ...      ...                                                ...  \n",
       "961712  19.466284        5  ROBO A TRANSEUNTE EN VÍA PÚBLICA CON Y SIN VIO...  \n",
       "961713  19.358334        1                             DELITO DE BAJO IMPACTO  \n",
       "961714  19.339645        3                             DELITO DE BAJO IMPACTO  \n",
       "961715  19.441199        1                             DELITO DE BAJO IMPACTO  \n",
       "961716  19.389455        2                             DELITO DE BAJO IMPACTO  \n",
       "\n",
       "[961717 rows x 8 columns]"
      ]
     },
     "execution_count": 101,
     "metadata": {},
     "output_type": "execute_result"
    }
   ],
   "source": [
    "df_score_2"
   ]
  },
  {
   "cell_type": "code",
   "execution_count": 114,
   "metadata": {
    "ExecuteTime": {
     "end_time": "2021-08-03T01:47:35.129914Z",
     "start_time": "2021-08-03T01:47:34.154017Z"
    }
   },
   "outputs": [],
   "source": [
    "df_counts = df_score_2.groupby(['alcaldia_hechos','longitud','latitud'], as_index = False).agg({'level_7': ['count']})"
   ]
  },
  {
   "cell_type": "code",
   "execution_count": 115,
   "metadata": {
    "ExecuteTime": {
     "end_time": "2021-08-03T01:47:35.893872Z",
     "start_time": "2021-08-03T01:47:35.885423Z"
    }
   },
   "outputs": [],
   "source": [
    "df_counts.columns = [\"\".join(x).replace('level_7','') for x in df_counts.columns]"
   ]
  },
  {
   "cell_type": "code",
   "execution_count": 122,
   "metadata": {
    "ExecuteTime": {
     "end_time": "2021-08-03T01:50:04.126793Z",
     "start_time": "2021-08-03T01:50:04.111821Z"
    }
   },
   "outputs": [],
   "source": [
    "df_counts.rename(columns={'count':'n_delitos'}, inplace=True)"
   ]
  },
  {
   "cell_type": "code",
   "execution_count": 124,
   "metadata": {
    "ExecuteTime": {
     "end_time": "2021-08-03T02:02:17.749177Z",
     "start_time": "2021-08-03T02:02:17.637697Z"
    }
   },
   "outputs": [],
   "source": [
    "df_score.reset_index(inplace=True)"
   ]
  },
  {
   "cell_type": "code",
   "execution_count": 127,
   "metadata": {
    "ExecuteTime": {
     "end_time": "2021-08-03T02:16:28.653692Z",
     "start_time": "2021-08-03T02:16:26.882600Z"
    }
   },
   "outputs": [],
   "source": [
    "df_score = df_score.merge(df_counts, how= 'left', on=['alcaldia_hechos', 'longitud', 'latitud'])"
   ]
  },
  {
   "cell_type": "code",
   "execution_count": 128,
   "metadata": {
    "ExecuteTime": {
     "end_time": "2021-08-03T02:16:46.294514Z",
     "start_time": "2021-08-03T02:16:46.111002Z"
    }
   },
   "outputs": [
    {
     "data": {
      "text/html": [
       "<div>\n",
       "<style scoped>\n",
       "    .dataframe tbody tr th:only-of-type {\n",
       "        vertical-align: middle;\n",
       "    }\n",
       "\n",
       "    .dataframe tbody tr th {\n",
       "        vertical-align: top;\n",
       "    }\n",
       "\n",
       "    .dataframe thead th {\n",
       "        text-align: right;\n",
       "    }\n",
       "</style>\n",
       "<table border=\"1\" class=\"dataframe\">\n",
       "  <thead>\n",
       "    <tr style=\"text-align: right;\">\n",
       "      <th></th>\n",
       "      <th>alcaldia_hechos</th>\n",
       "      <th>fecha_hechos</th>\n",
       "      <th>Month</th>\n",
       "      <th>Weekday Name</th>\n",
       "      <th>longitud</th>\n",
       "      <th>latitud</th>\n",
       "      <th>n_count</th>\n",
       "      <th>DELITO DE BAJO IMPACTO</th>\n",
       "      <th>ROBO DE VEHÍCULO CON Y SIN VIOLENCIA</th>\n",
       "      <th>ROBO A TRANSEUNTE EN VÍA PÚBLICA CON Y SIN VIOLENCIA</th>\n",
       "      <th>...</th>\n",
       "      <th>VIOLACIÓN</th>\n",
       "      <th>ROBO A TRANSPORTISTA CON Y SIN VIOLENCIA</th>\n",
       "      <th>ROBO A CUENTAHABIENTE SALIENDO DEL CAJERO CON VIOLENCIA</th>\n",
       "      <th>ROBO A REPARTIDOR CON Y SIN VIOLENCIA</th>\n",
       "      <th>HOMICIDIO DOLOSO</th>\n",
       "      <th>ROBO A PASAJERO A BORDO DE TAXI CON VIOLENCIA</th>\n",
       "      <th>ROBO A PASAJERO A BORDO DEL METRO CON Y SIN VIOLENCIA</th>\n",
       "      <th>SECUESTRO</th>\n",
       "      <th>FEMINICIDIO</th>\n",
       "      <th>n_delitos</th>\n",
       "    </tr>\n",
       "  </thead>\n",
       "  <tbody>\n",
       "    <tr>\n",
       "      <th>0</th>\n",
       "      <td>BENITO JUAREZ</td>\n",
       "      <td>2016-01-31</td>\n",
       "      <td>1</td>\n",
       "      <td>Sunday</td>\n",
       "      <td>-99.140215</td>\n",
       "      <td>19.380315</td>\n",
       "      <td>4</td>\n",
       "      <td>1</td>\n",
       "      <td>0</td>\n",
       "      <td>0</td>\n",
       "      <td>...</td>\n",
       "      <td>0</td>\n",
       "      <td>0</td>\n",
       "      <td>0</td>\n",
       "      <td>0</td>\n",
       "      <td>0</td>\n",
       "      <td>0</td>\n",
       "      <td>0</td>\n",
       "      <td>0</td>\n",
       "      <td>0</td>\n",
       "      <td>1</td>\n",
       "    </tr>\n",
       "    <tr>\n",
       "      <th>1</th>\n",
       "      <td>IZTAPALAPA</td>\n",
       "      <td>2016-01-31</td>\n",
       "      <td>1</td>\n",
       "      <td>Sunday</td>\n",
       "      <td>-99.108403</td>\n",
       "      <td>19.352859</td>\n",
       "      <td>5</td>\n",
       "      <td>0</td>\n",
       "      <td>1</td>\n",
       "      <td>0</td>\n",
       "      <td>...</td>\n",
       "      <td>0</td>\n",
       "      <td>0</td>\n",
       "      <td>0</td>\n",
       "      <td>0</td>\n",
       "      <td>0</td>\n",
       "      <td>0</td>\n",
       "      <td>0</td>\n",
       "      <td>0</td>\n",
       "      <td>0</td>\n",
       "      <td>5</td>\n",
       "    </tr>\n",
       "    <tr>\n",
       "      <th>2</th>\n",
       "      <td>IZTAPALAPA</td>\n",
       "      <td>2016-02-01</td>\n",
       "      <td>2</td>\n",
       "      <td>Monday</td>\n",
       "      <td>-99.061321</td>\n",
       "      <td>19.356451</td>\n",
       "      <td>3</td>\n",
       "      <td>1</td>\n",
       "      <td>0</td>\n",
       "      <td>0</td>\n",
       "      <td>...</td>\n",
       "      <td>0</td>\n",
       "      <td>0</td>\n",
       "      <td>0</td>\n",
       "      <td>0</td>\n",
       "      <td>0</td>\n",
       "      <td>0</td>\n",
       "      <td>0</td>\n",
       "      <td>0</td>\n",
       "      <td>0</td>\n",
       "      <td>1</td>\n",
       "    </tr>\n",
       "    <tr>\n",
       "      <th>3</th>\n",
       "      <td>IZTAPALAPA</td>\n",
       "      <td>2016-01-31</td>\n",
       "      <td>1</td>\n",
       "      <td>Sunday</td>\n",
       "      <td>-98.976379</td>\n",
       "      <td>19.331633</td>\n",
       "      <td>5</td>\n",
       "      <td>0</td>\n",
       "      <td>0</td>\n",
       "      <td>1</td>\n",
       "      <td>...</td>\n",
       "      <td>0</td>\n",
       "      <td>0</td>\n",
       "      <td>0</td>\n",
       "      <td>0</td>\n",
       "      <td>0</td>\n",
       "      <td>0</td>\n",
       "      <td>0</td>\n",
       "      <td>0</td>\n",
       "      <td>0</td>\n",
       "      <td>1</td>\n",
       "    </tr>\n",
       "    <tr>\n",
       "      <th>4</th>\n",
       "      <td>CUAUHTEMOC</td>\n",
       "      <td>2016-02-01</td>\n",
       "      <td>2</td>\n",
       "      <td>Monday</td>\n",
       "      <td>-99.174075</td>\n",
       "      <td>19.421356</td>\n",
       "      <td>5</td>\n",
       "      <td>1</td>\n",
       "      <td>0</td>\n",
       "      <td>0</td>\n",
       "      <td>...</td>\n",
       "      <td>0</td>\n",
       "      <td>0</td>\n",
       "      <td>0</td>\n",
       "      <td>0</td>\n",
       "      <td>0</td>\n",
       "      <td>0</td>\n",
       "      <td>0</td>\n",
       "      <td>0</td>\n",
       "      <td>0</td>\n",
       "      <td>2</td>\n",
       "    </tr>\n",
       "    <tr>\n",
       "      <th>...</th>\n",
       "      <td>...</td>\n",
       "      <td>...</td>\n",
       "      <td>...</td>\n",
       "      <td>...</td>\n",
       "      <td>...</td>\n",
       "      <td>...</td>\n",
       "      <td>...</td>\n",
       "      <td>...</td>\n",
       "      <td>...</td>\n",
       "      <td>...</td>\n",
       "      <td>...</td>\n",
       "      <td>...</td>\n",
       "      <td>...</td>\n",
       "      <td>...</td>\n",
       "      <td>...</td>\n",
       "      <td>...</td>\n",
       "      <td>...</td>\n",
       "      <td>...</td>\n",
       "      <td>...</td>\n",
       "      <td>...</td>\n",
       "      <td>...</td>\n",
       "    </tr>\n",
       "    <tr>\n",
       "      <th>961712</th>\n",
       "      <td>GUSTAVO A MADERO</td>\n",
       "      <td>2020-06-30</td>\n",
       "      <td>6</td>\n",
       "      <td>Tuesday</td>\n",
       "      <td>-99.134871</td>\n",
       "      <td>19.466284</td>\n",
       "      <td>5</td>\n",
       "      <td>0</td>\n",
       "      <td>0</td>\n",
       "      <td>1</td>\n",
       "      <td>...</td>\n",
       "      <td>0</td>\n",
       "      <td>0</td>\n",
       "      <td>0</td>\n",
       "      <td>0</td>\n",
       "      <td>0</td>\n",
       "      <td>0</td>\n",
       "      <td>0</td>\n",
       "      <td>0</td>\n",
       "      <td>0</td>\n",
       "      <td>2</td>\n",
       "    </tr>\n",
       "    <tr>\n",
       "      <th>961713</th>\n",
       "      <td>ALVARO OBREGON</td>\n",
       "      <td>2020-06-29</td>\n",
       "      <td>6</td>\n",
       "      <td>Monday</td>\n",
       "      <td>-99.172309</td>\n",
       "      <td>19.358334</td>\n",
       "      <td>1</td>\n",
       "      <td>1</td>\n",
       "      <td>0</td>\n",
       "      <td>0</td>\n",
       "      <td>...</td>\n",
       "      <td>0</td>\n",
       "      <td>0</td>\n",
       "      <td>0</td>\n",
       "      <td>0</td>\n",
       "      <td>0</td>\n",
       "      <td>0</td>\n",
       "      <td>0</td>\n",
       "      <td>0</td>\n",
       "      <td>0</td>\n",
       "      <td>1</td>\n",
       "    </tr>\n",
       "    <tr>\n",
       "      <th>961714</th>\n",
       "      <td>ALVARO OBREGON</td>\n",
       "      <td>2019-12-20</td>\n",
       "      <td>12</td>\n",
       "      <td>Friday</td>\n",
       "      <td>-99.201685</td>\n",
       "      <td>19.339645</td>\n",
       "      <td>3</td>\n",
       "      <td>1</td>\n",
       "      <td>0</td>\n",
       "      <td>0</td>\n",
       "      <td>...</td>\n",
       "      <td>0</td>\n",
       "      <td>0</td>\n",
       "      <td>0</td>\n",
       "      <td>0</td>\n",
       "      <td>0</td>\n",
       "      <td>0</td>\n",
       "      <td>0</td>\n",
       "      <td>0</td>\n",
       "      <td>0</td>\n",
       "      <td>1</td>\n",
       "    </tr>\n",
       "    <tr>\n",
       "      <th>961715</th>\n",
       "      <td>CUAUHTEMOC</td>\n",
       "      <td>2020-06-30</td>\n",
       "      <td>6</td>\n",
       "      <td>Tuesday</td>\n",
       "      <td>-99.143585</td>\n",
       "      <td>19.441199</td>\n",
       "      <td>1</td>\n",
       "      <td>1</td>\n",
       "      <td>0</td>\n",
       "      <td>0</td>\n",
       "      <td>...</td>\n",
       "      <td>0</td>\n",
       "      <td>0</td>\n",
       "      <td>0</td>\n",
       "      <td>0</td>\n",
       "      <td>0</td>\n",
       "      <td>0</td>\n",
       "      <td>0</td>\n",
       "      <td>0</td>\n",
       "      <td>0</td>\n",
       "      <td>1</td>\n",
       "    </tr>\n",
       "    <tr>\n",
       "      <th>961716</th>\n",
       "      <td>IZTACALCO</td>\n",
       "      <td>2020-06-30</td>\n",
       "      <td>6</td>\n",
       "      <td>Tuesday</td>\n",
       "      <td>-99.127101</td>\n",
       "      <td>19.389455</td>\n",
       "      <td>2</td>\n",
       "      <td>1</td>\n",
       "      <td>0</td>\n",
       "      <td>0</td>\n",
       "      <td>...</td>\n",
       "      <td>0</td>\n",
       "      <td>0</td>\n",
       "      <td>0</td>\n",
       "      <td>0</td>\n",
       "      <td>0</td>\n",
       "      <td>0</td>\n",
       "      <td>0</td>\n",
       "      <td>0</td>\n",
       "      <td>0</td>\n",
       "      <td>1</td>\n",
       "    </tr>\n",
       "  </tbody>\n",
       "</table>\n",
       "<p>961717 rows × 25 columns</p>\n",
       "</div>"
      ],
      "text/plain": [
       "         alcaldia_hechos fecha_hechos  Month Weekday Name   longitud  \\\n",
       "0          BENITO JUAREZ   2016-01-31      1       Sunday -99.140215   \n",
       "1             IZTAPALAPA   2016-01-31      1       Sunday -99.108403   \n",
       "2             IZTAPALAPA   2016-02-01      2       Monday -99.061321   \n",
       "3             IZTAPALAPA   2016-01-31      1       Sunday -98.976379   \n",
       "4             CUAUHTEMOC   2016-02-01      2       Monday -99.174075   \n",
       "...                  ...          ...    ...          ...        ...   \n",
       "961712  GUSTAVO A MADERO   2020-06-30      6      Tuesday -99.134871   \n",
       "961713    ALVARO OBREGON   2020-06-29      6       Monday -99.172309   \n",
       "961714    ALVARO OBREGON   2019-12-20     12       Friday -99.201685   \n",
       "961715        CUAUHTEMOC   2020-06-30      6      Tuesday -99.143585   \n",
       "961716         IZTACALCO   2020-06-30      6      Tuesday -99.127101   \n",
       "\n",
       "          latitud  n_count  DELITO DE BAJO IMPACTO  \\\n",
       "0       19.380315        4                       1   \n",
       "1       19.352859        5                       0   \n",
       "2       19.356451        3                       1   \n",
       "3       19.331633        5                       0   \n",
       "4       19.421356        5                       1   \n",
       "...           ...      ...                     ...   \n",
       "961712  19.466284        5                       0   \n",
       "961713  19.358334        1                       1   \n",
       "961714  19.339645        3                       1   \n",
       "961715  19.441199        1                       1   \n",
       "961716  19.389455        2                       1   \n",
       "\n",
       "        ROBO DE VEHÍCULO CON Y SIN VIOLENCIA  \\\n",
       "0                                          0   \n",
       "1                                          1   \n",
       "2                                          0   \n",
       "3                                          0   \n",
       "4                                          0   \n",
       "...                                      ...   \n",
       "961712                                     0   \n",
       "961713                                     0   \n",
       "961714                                     0   \n",
       "961715                                     0   \n",
       "961716                                     0   \n",
       "\n",
       "        ROBO A TRANSEUNTE EN VÍA PÚBLICA CON Y SIN VIOLENCIA  ...  VIOLACIÓN  \\\n",
       "0                                                       0     ...          0   \n",
       "1                                                       0     ...          0   \n",
       "2                                                       0     ...          0   \n",
       "3                                                       1     ...          0   \n",
       "4                                                       0     ...          0   \n",
       "...                                                   ...     ...        ...   \n",
       "961712                                                  1     ...          0   \n",
       "961713                                                  0     ...          0   \n",
       "961714                                                  0     ...          0   \n",
       "961715                                                  0     ...          0   \n",
       "961716                                                  0     ...          0   \n",
       "\n",
       "        ROBO A TRANSPORTISTA CON Y SIN VIOLENCIA  \\\n",
       "0                                              0   \n",
       "1                                              0   \n",
       "2                                              0   \n",
       "3                                              0   \n",
       "4                                              0   \n",
       "...                                          ...   \n",
       "961712                                         0   \n",
       "961713                                         0   \n",
       "961714                                         0   \n",
       "961715                                         0   \n",
       "961716                                         0   \n",
       "\n",
       "        ROBO A CUENTAHABIENTE SALIENDO DEL CAJERO CON VIOLENCIA  \\\n",
       "0                                                       0         \n",
       "1                                                       0         \n",
       "2                                                       0         \n",
       "3                                                       0         \n",
       "4                                                       0         \n",
       "...                                                   ...         \n",
       "961712                                                  0         \n",
       "961713                                                  0         \n",
       "961714                                                  0         \n",
       "961715                                                  0         \n",
       "961716                                                  0         \n",
       "\n",
       "        ROBO A REPARTIDOR CON Y SIN VIOLENCIA  HOMICIDIO DOLOSO  \\\n",
       "0                                           0                 0   \n",
       "1                                           0                 0   \n",
       "2                                           0                 0   \n",
       "3                                           0                 0   \n",
       "4                                           0                 0   \n",
       "...                                       ...               ...   \n",
       "961712                                      0                 0   \n",
       "961713                                      0                 0   \n",
       "961714                                      0                 0   \n",
       "961715                                      0                 0   \n",
       "961716                                      0                 0   \n",
       "\n",
       "        ROBO A PASAJERO A BORDO DE TAXI CON VIOLENCIA  \\\n",
       "0                                                   0   \n",
       "1                                                   0   \n",
       "2                                                   0   \n",
       "3                                                   0   \n",
       "4                                                   0   \n",
       "...                                               ...   \n",
       "961712                                              0   \n",
       "961713                                              0   \n",
       "961714                                              0   \n",
       "961715                                              0   \n",
       "961716                                              0   \n",
       "\n",
       "        ROBO A PASAJERO A BORDO DEL METRO CON Y SIN VIOLENCIA  SECUESTRO  \\\n",
       "0                                                       0              0   \n",
       "1                                                       0              0   \n",
       "2                                                       0              0   \n",
       "3                                                       0              0   \n",
       "4                                                       0              0   \n",
       "...                                                   ...            ...   \n",
       "961712                                                  0              0   \n",
       "961713                                                  0              0   \n",
       "961714                                                  0              0   \n",
       "961715                                                  0              0   \n",
       "961716                                                  0              0   \n",
       "\n",
       "        FEMINICIDIO  n_delitos  \n",
       "0                 0          1  \n",
       "1                 0          5  \n",
       "2                 0          1  \n",
       "3                 0          1  \n",
       "4                 0          2  \n",
       "...             ...        ...  \n",
       "961712            0          2  \n",
       "961713            0          1  \n",
       "961714            0          1  \n",
       "961715            0          1  \n",
       "961716            0          1  \n",
       "\n",
       "[961717 rows x 25 columns]"
      ]
     },
     "execution_count": 128,
     "metadata": {},
     "output_type": "execute_result"
    }
   ],
   "source": [
    "df_score"
   ]
  },
  {
   "cell_type": "code",
   "execution_count": 129,
   "metadata": {
    "ExecuteTime": {
     "end_time": "2021-08-03T02:18:45.151714Z",
     "start_time": "2021-08-03T02:18:44.861997Z"
    }
   },
   "outputs": [],
   "source": [
    "df_score =pd.get_dummies(df_score, columns=['Month', 'Weekday Name'])"
   ]
  },
  {
   "cell_type": "code",
   "execution_count": 130,
   "metadata": {
    "ExecuteTime": {
     "end_time": "2021-08-03T02:18:55.645550Z",
     "start_time": "2021-08-03T02:18:55.630265Z"
    }
   },
   "outputs": [],
   "source": [
    "df_score.columns = [x.replace('Weekday Name_','') for x in df_score.columns]"
   ]
  },
  {
   "cell_type": "code",
   "execution_count": 131,
   "metadata": {
    "ExecuteTime": {
     "end_time": "2021-08-03T02:19:06.170160Z",
     "start_time": "2021-08-03T02:19:06.072726Z"
    }
   },
   "outputs": [],
   "source": [
    "df_score.drop(columns=['fecha_hechos'], inplace=True)"
   ]
  },
  {
   "cell_type": "code",
   "execution_count": 132,
   "metadata": {
    "ExecuteTime": {
     "end_time": "2021-08-03T02:20:12.084420Z",
     "start_time": "2021-08-03T02:20:12.055866Z"
    }
   },
   "outputs": [],
   "source": [
    "X = df_score[['longitud','latitud','n_count','n_delitos']]"
   ]
  },
  {
   "cell_type": "code",
   "execution_count": 135,
   "metadata": {
    "ExecuteTime": {
     "end_time": "2021-08-03T02:21:25.004933Z",
     "start_time": "2021-08-03T02:21:24.984760Z"
    }
   },
   "outputs": [],
   "source": [
    "X.set_index(df_score.alcaldia_hechos, inplace=True)"
   ]
  },
  {
   "cell_type": "code",
   "execution_count": 136,
   "metadata": {
    "ExecuteTime": {
     "end_time": "2021-08-03T02:21:26.238680Z",
     "start_time": "2021-08-03T02:21:26.231634Z"
    }
   },
   "outputs": [],
   "source": [
    "from sklearn.decomposition import PCA\n",
    "from sklearn.cluster import KMeans\n",
    "from sklearn.cluster import k_means_\n",
    "from sklearn.preprocessing import MinMaxScaler\n",
    "from sklearn.feature_extraction.text import CountVectorizer\n",
    "from sklearn.neighbors import KNeighborsRegressor, KNeighborsClassifier\n",
    "from sklearn.metrics import davies_bouldin_score, silhouette_score, silhouette_samples\n",
    "\n",
    "sc = MinMaxScaler()"
   ]
  },
  {
   "cell_type": "code",
   "execution_count": 137,
   "metadata": {
    "ExecuteTime": {
     "end_time": "2021-08-03T02:21:31.641892Z",
     "start_time": "2021-08-03T02:21:31.565696Z"
    }
   },
   "outputs": [],
   "source": [
    "Xs = pd.DataFrame(data=sc.fit_transform(X), columns=X.columns, index=X.index)"
   ]
  },
  {
   "cell_type": "code",
   "execution_count": 138,
   "metadata": {
    "ExecuteTime": {
     "end_time": "2021-08-03T02:21:34.206498Z",
     "start_time": "2021-08-03T02:21:34.188928Z"
    }
   },
   "outputs": [],
   "source": [
    "pca = PCA(n_components=2)"
   ]
  },
  {
   "cell_type": "code",
   "execution_count": 139,
   "metadata": {
    "ExecuteTime": {
     "end_time": "2021-08-03T02:21:38.682251Z",
     "start_time": "2021-08-03T02:21:37.266351Z"
    }
   },
   "outputs": [],
   "source": [
    "Xp = pd.DataFrame(data=pca.fit_transform(Xs), columns=[\"p1\", \"p2\"], index=Xs.index)\n",
    "#, \"p3\", \"p4\", \"p5\",\"p6\", \"p7\", \"p8\", \"p9\", \"p10\",\"p11\", \"p12\", \"p13\", \"p14\", \"p15\", \"p16\", \"p17\", \"p18\", \"p19\", \"p20\""
   ]
  },
  {
   "cell_type": "code",
   "execution_count": 140,
   "metadata": {
    "ExecuteTime": {
     "end_time": "2021-08-03T02:21:38.698181Z",
     "start_time": "2021-08-03T02:21:38.684245Z"
    },
    "scrolled": true
   },
   "outputs": [
    {
     "data": {
      "text/plain": [
       "array([0.8681584 , 0.97529117])"
      ]
     },
     "execution_count": 140,
     "metadata": {},
     "output_type": "execute_result"
    }
   ],
   "source": [
    "pca.explained_variance_ratio_.cumsum()"
   ]
  },
  {
   "cell_type": "code",
   "execution_count": 149,
   "metadata": {
    "ExecuteTime": {
     "end_time": "2021-08-03T02:38:44.825149Z",
     "start_time": "2021-08-03T02:36:39.905228Z"
    }
   },
   "outputs": [
    {
     "name": "stdout",
     "output_type": "stream",
     "text": [
      "2\n",
      "3\n",
      "4\n",
      "5\n",
      "6\n",
      "7\n",
      "8\n",
      "9\n",
      "10\n",
      "11\n",
      "12\n",
      "13\n",
      "14\n"
     ]
    }
   ],
   "source": [
    "sse,db,slc = {}, {}, {}\n",
    "for k in range(2, 15):\n",
    "    # seed of 10 for reproducibility.\n",
    "    kmeans = KMeans(n_clusters=k, max_iter=1000, random_state=10, n_jobs=-1).fit(Xs)\n",
    "    if k == 3: labels = kmeans.labels_\n",
    "    clusters = kmeans.labels_\n",
    "    sse[k] = kmeans.inertia_ # Inertia: Sum of distances of samples to their closest cluster center\n",
    "    db[k] = davies_bouldin_score(Xs,clusters)\n",
    "#     slc[k] = silhouette_score(Xs,clusters)"
   ]
  },
  {
   "cell_type": "code",
   "execution_count": 151,
   "metadata": {
    "ExecuteTime": {
     "end_time": "2021-08-03T02:40:16.776168Z",
     "start_time": "2021-08-03T02:40:16.554169Z"
    }
   },
   "outputs": [
    {
     "data": {
      "image/png": "[encoded data removed]",
      "text/plain": [
       "<Figure size 720x360 with 1 Axes>"
      ]
     },
     "metadata": {},
     "output_type": "display_data"
    }
   ],
   "source": [
    "plt.figure(figsize=(10,5))\n",
    "plt.plot(list(db.keys()), list(db.values()), \"bx-\")\n",
    "plt.xlabel(\"Number of cluster\")\n",
    "plt.ylabel(\"Davies-Bouldin values\")\n",
    "plt.show()"
   ]
  },
  {
   "cell_type": "code",
   "execution_count": 152,
   "metadata": {
    "ExecuteTime": {
     "end_time": "2021-08-03T02:41:50.152116Z",
     "start_time": "2021-08-03T02:41:49.931451Z"
    }
   },
   "outputs": [
    {
     "data": {
      "image/png": "[encoded data removed]",
      "text/plain": [
       "<Figure size 720x360 with 1 Axes>"
      ]
     },
     "metadata": {},
     "output_type": "display_data"
    }
   ],
   "source": [
    "plt.figure(figsize=(10,5))\n",
    "plt.plot(list(sse.keys()), list(sse.values()), \"bx-\")\n",
    "plt.xlabel(\"Number of cluster\")\n",
    "plt.ylabel(\"SSE\")\n",
    "plt.show()"
   ]
  },
  {
   "cell_type": "code",
   "execution_count": 153,
   "metadata": {
    "ExecuteTime": {
     "end_time": "2021-08-03T02:42:26.845276Z",
     "start_time": "2021-08-03T02:42:26.834829Z"
    }
   },
   "outputs": [],
   "source": [
    "cluster =  KMeans(n_clusters=3, n_jobs=-1, random_state=10)"
   ]
  },
  {
   "cell_type": "code",
   "execution_count": 154,
   "metadata": {
    "ExecuteTime": {
     "end_time": "2021-08-03T02:43:05.415019Z",
     "start_time": "2021-08-03T02:43:01.754248Z"
    }
   },
   "outputs": [
    {
     "name": "stderr",
     "output_type": "stream",
     "text": [
      "C:\\Users\\Ideapad\\Anaconda3\\lib\\site-packages\\ipykernel_launcher.py:1: SettingWithCopyWarning: \n",
      "A value is trying to be set on a copy of a slice from a DataFrame.\n",
      "Try using .loc[row_indexer,col_indexer] = value instead\n",
      "\n",
      "See the caveats in the documentation: https://pandas.pydata.org/pandas-docs/stable/user_guide/indexing.html#returning-a-view-versus-a-copy\n",
      "  \"\"\"Entry point for launching an IPython kernel.\n"
     ]
    }
   ],
   "source": [
    "X[\"cl\"] = Xs[\"cl\"] = Xp[\"cl\"] = [str(x) for x in cluster.fit_predict(Xs)]"
   ]
  },
  {
   "cell_type": "code",
   "execution_count": 156,
   "metadata": {
    "ExecuteTime": {
     "end_time": "2021-08-03T02:44:21.344540Z",
     "start_time": "2021-08-03T02:44:21.318981Z"
    }
   },
   "outputs": [],
   "source": [
    "X.reset_index(inplace=True)"
   ]
  },
  {
   "cell_type": "code",
   "execution_count": 176,
   "metadata": {
    "ExecuteTime": {
     "end_time": "2021-08-03T03:15:43.834182Z",
     "start_time": "2021-08-03T03:15:41.340234Z"
    }
   },
   "outputs": [],
   "source": [
    "Y = df_score.merge(X, how='left', on=['alcaldia_hechos', 'longitud', 'latitud', 'n_count'])"
   ]
  },
  {
   "cell_type": "code",
   "execution_count": 177,
   "metadata": {
    "ExecuteTime": {
     "end_time": "2021-08-03T03:15:44.149901Z",
     "start_time": "2021-08-03T03:15:43.836992Z"
    }
   },
   "outputs": [],
   "source": [
    "Y.drop(columns=['alcaldia_hechos', 'longitud', 'latitud'],inplace=True)"
   ]
  },
  {
   "cell_type": "code",
   "execution_count": 178,
   "metadata": {
    "ExecuteTime": {
     "end_time": "2021-08-03T03:15:44.998473Z",
     "start_time": "2021-08-03T03:15:44.153170Z"
    }
   },
   "outputs": [
    {
     "data": {
      "text/html": [
       "<style type=\"text/css\">\n",
       "#T_d8021_row0_col0, #T_d8021_row0_col3, #T_d8021_row0_col4, #T_d8021_row0_col7, #T_d8021_row0_col8, #T_d8021_row0_col10, #T_d8021_row0_col11, #T_d8021_row0_col14, #T_d8021_row0_col15, #T_d8021_row0_col19, #T_d8021_row0_col20, #T_d8021_row0_col21, #T_d8021_row0_col30, #T_d8021_row0_col33, #T_d8021_row0_col34, #T_d8021_row1_col1, #T_d8021_row1_col16, #T_d8021_row1_col17, #T_d8021_row1_col23, #T_d8021_row2_col2, #T_d8021_row2_col3, #T_d8021_row2_col4, #T_d8021_row2_col5, #T_d8021_row2_col6, #T_d8021_row2_col7, #T_d8021_row2_col8, #T_d8021_row2_col9, #T_d8021_row2_col10, #T_d8021_row2_col11, #T_d8021_row2_col12, #T_d8021_row2_col13, #T_d8021_row2_col14, #T_d8021_row2_col15, #T_d8021_row2_col16, #T_d8021_row2_col17, #T_d8021_row2_col18, #T_d8021_row2_col22, #T_d8021_row2_col24, #T_d8021_row2_col25, #T_d8021_row2_col26, #T_d8021_row2_col27, #T_d8021_row2_col28, #T_d8021_row2_col29, #T_d8021_row2_col31, #T_d8021_row2_col32, #T_d8021_row2_col35, #T_d8021_row2_col36, #T_d8021_row2_col37, #T_d8021_row2_col38 {\n",
       "  background-color: #f7fbff;\n",
       "  color: #000000;\n",
       "}\n",
       "#T_d8021_row0_col1 {\n",
       "  background-color: #3383be;\n",
       "  color: #f1f1f1;\n",
       "}\n",
       "#T_d8021_row0_col2 {\n",
       "  background-color: #e8f1fa;\n",
       "  color: #000000;\n",
       "}\n",
       "#T_d8021_row0_col5, #T_d8021_row0_col6, #T_d8021_row0_col9, #T_d8021_row0_col12, #T_d8021_row0_col13, #T_d8021_row0_col16, #T_d8021_row0_col17, #T_d8021_row0_col18, #T_d8021_row0_col24, #T_d8021_row0_col26, #T_d8021_row0_col28, #T_d8021_row0_col31, #T_d8021_row0_col32, #T_d8021_row0_col36, #T_d8021_row0_col37, #T_d8021_row0_col38, #T_d8021_row1_col2, #T_d8021_row1_col3, #T_d8021_row1_col4, #T_d8021_row1_col7, #T_d8021_row1_col8, #T_d8021_row1_col10, #T_d8021_row1_col11, #T_d8021_row1_col14, #T_d8021_row1_col15, #T_d8021_row1_col22, #T_d8021_row1_col25, #T_d8021_row1_col27, #T_d8021_row1_col29, #T_d8021_row1_col35, #T_d8021_row2_col0, #T_d8021_row2_col1, #T_d8021_row2_col19, #T_d8021_row2_col20, #T_d8021_row2_col21, #T_d8021_row2_col23, #T_d8021_row2_col30, #T_d8021_row2_col33, #T_d8021_row2_col34 {\n",
       "  background-color: #08306b;\n",
       "  color: #f1f1f1;\n",
       "}\n",
       "#T_d8021_row0_col22 {\n",
       "  background-color: #3585bf;\n",
       "  color: #f1f1f1;\n",
       "}\n",
       "#T_d8021_row0_col23 {\n",
       "  background-color: #b7d4ea;\n",
       "  color: #000000;\n",
       "}\n",
       "#T_d8021_row0_col25 {\n",
       "  background-color: #0d57a1;\n",
       "  color: #f1f1f1;\n",
       "}\n",
       "#T_d8021_row0_col27 {\n",
       "  background-color: #083979;\n",
       "  color: #f1f1f1;\n",
       "}\n",
       "#T_d8021_row0_col29 {\n",
       "  background-color: #bcd7eb;\n",
       "  color: #000000;\n",
       "}\n",
       "#T_d8021_row0_col35 {\n",
       "  background-color: #083776;\n",
       "  color: #f1f1f1;\n",
       "}\n",
       "#T_d8021_row1_col0 {\n",
       "  background-color: #d3e3f3;\n",
       "  color: #000000;\n",
       "}\n",
       "#T_d8021_row1_col5 {\n",
       "  background-color: #f2f7fd;\n",
       "  color: #000000;\n",
       "}\n",
       "#T_d8021_row1_col6 {\n",
       "  background-color: #d4e4f4;\n",
       "  color: #000000;\n",
       "}\n",
       "#T_d8021_row1_col9 {\n",
       "  background-color: #f6faff;\n",
       "  color: #000000;\n",
       "}\n",
       "#T_d8021_row1_col12 {\n",
       "  background-color: #cfe1f2;\n",
       "  color: #000000;\n",
       "}\n",
       "#T_d8021_row1_col13 {\n",
       "  background-color: #c3daee;\n",
       "  color: #000000;\n",
       "}\n",
       "#T_d8021_row1_col18, #T_d8021_row1_col38 {\n",
       "  background-color: #cde0f1;\n",
       "  color: #000000;\n",
       "}\n",
       "#T_d8021_row1_col19 {\n",
       "  background-color: #eff6fc;\n",
       "  color: #000000;\n",
       "}\n",
       "#T_d8021_row1_col20 {\n",
       "  background-color: #eaf2fb;\n",
       "  color: #000000;\n",
       "}\n",
       "#T_d8021_row1_col21 {\n",
       "  background-color: #e3eef8;\n",
       "  color: #000000;\n",
       "}\n",
       "#T_d8021_row1_col24 {\n",
       "  background-color: #1c6bb0;\n",
       "  color: #f1f1f1;\n",
       "}\n",
       "#T_d8021_row1_col26 {\n",
       "  background-color: #083674;\n",
       "  color: #f1f1f1;\n",
       "}\n",
       "#T_d8021_row1_col28 {\n",
       "  background-color: #66abd4;\n",
       "  color: #f1f1f1;\n",
       "}\n",
       "#T_d8021_row1_col30 {\n",
       "  background-color: #77b5d9;\n",
       "  color: #000000;\n",
       "}\n",
       "#T_d8021_row1_col31 {\n",
       "  background-color: #3f8fc5;\n",
       "  color: #f1f1f1;\n",
       "}\n",
       "#T_d8021_row1_col32 {\n",
       "  background-color: #c2d9ee;\n",
       "  color: #000000;\n",
       "}\n",
       "#T_d8021_row1_col33 {\n",
       "  background-color: #6dafd7;\n",
       "  color: #f1f1f1;\n",
       "}\n",
       "#T_d8021_row1_col34 {\n",
       "  background-color: #add0e6;\n",
       "  color: #000000;\n",
       "}\n",
       "#T_d8021_row1_col36 {\n",
       "  background-color: #549fcd;\n",
       "  color: #f1f1f1;\n",
       "}\n",
       "#T_d8021_row1_col37 {\n",
       "  background-color: #2171b5;\n",
       "  color: #f1f1f1;\n",
       "}\n",
       "</style>\n",
       "<table id=\"T_d8021_\">\n",
       "  <thead>\n",
       "    <tr>\n",
       "      <th class=\"blank level0\" >&nbsp;</th>\n",
       "      <th class=\"col_heading level0 col0\" >n_count</th>\n",
       "      <th class=\"col_heading level0 col1\" >DELITO DE BAJO IMPACTO</th>\n",
       "      <th class=\"col_heading level0 col2\" >ROBO DE VEHÍCULO CON Y SIN VIOLENCIA</th>\n",
       "      <th class=\"col_heading level0 col3\" >ROBO A TRANSEUNTE EN VÍA PÚBLICA CON Y SIN VIOLENCIA</th>\n",
       "      <th class=\"col_heading level0 col4\" >LESIONES DOLOSAS POR DISPARO DE ARMA DE FUEGO</th>\n",
       "      <th class=\"col_heading level0 col5\" >HECHO NO DELICTIVO</th>\n",
       "      <th class=\"col_heading level0 col6\" >ROBO A NEGOCIO CON VIOLENCIA</th>\n",
       "      <th class=\"col_heading level0 col7\" >ROBO A CASA HABITACIÓN CON VIOLENCIA</th>\n",
       "      <th class=\"col_heading level0 col8\" >ROBO A PASAJERO A BORDO DE MICROBUS CON Y SIN VIOLENCIA</th>\n",
       "      <th class=\"col_heading level0 col9\" >VIOLACIÓN</th>\n",
       "      <th class=\"col_heading level0 col10\" >ROBO A TRANSPORTISTA CON Y SIN VIOLENCIA</th>\n",
       "      <th class=\"col_heading level0 col11\" >ROBO A CUENTAHABIENTE SALIENDO DEL CAJERO CON VIOLENCIA</th>\n",
       "      <th class=\"col_heading level0 col12\" >ROBO A REPARTIDOR CON Y SIN VIOLENCIA</th>\n",
       "      <th class=\"col_heading level0 col13\" >HOMICIDIO DOLOSO</th>\n",
       "      <th class=\"col_heading level0 col14\" >ROBO A PASAJERO A BORDO DE TAXI CON VIOLENCIA</th>\n",
       "      <th class=\"col_heading level0 col15\" >ROBO A PASAJERO A BORDO DEL METRO CON Y SIN VIOLENCIA</th>\n",
       "      <th class=\"col_heading level0 col16\" >SECUESTRO</th>\n",
       "      <th class=\"col_heading level0 col17\" >FEMINICIDIO</th>\n",
       "      <th class=\"col_heading level0 col18\" >n_delitos_x</th>\n",
       "      <th class=\"col_heading level0 col19\" >Month_1</th>\n",
       "      <th class=\"col_heading level0 col20\" >Month_2</th>\n",
       "      <th class=\"col_heading level0 col21\" >Month_3</th>\n",
       "      <th class=\"col_heading level0 col22\" >Month_4</th>\n",
       "      <th class=\"col_heading level0 col23\" >Month_5</th>\n",
       "      <th class=\"col_heading level0 col24\" >Month_6</th>\n",
       "      <th class=\"col_heading level0 col25\" >Month_7</th>\n",
       "      <th class=\"col_heading level0 col26\" >Month_8</th>\n",
       "      <th class=\"col_heading level0 col27\" >Month_9</th>\n",
       "      <th class=\"col_heading level0 col28\" >Month_10</th>\n",
       "      <th class=\"col_heading level0 col29\" >Month_11</th>\n",
       "      <th class=\"col_heading level0 col30\" >Month_12</th>\n",
       "      <th class=\"col_heading level0 col31\" >Friday</th>\n",
       "      <th class=\"col_heading level0 col32\" >Monday</th>\n",
       "      <th class=\"col_heading level0 col33\" >Saturday</th>\n",
       "      <th class=\"col_heading level0 col34\" >Sunday</th>\n",
       "      <th class=\"col_heading level0 col35\" >Thursday</th>\n",
       "      <th class=\"col_heading level0 col36\" >Tuesday</th>\n",
       "      <th class=\"col_heading level0 col37\" >Wednesday</th>\n",
       "      <th class=\"col_heading level0 col38\" >n_delitos_y</th>\n",
       "    </tr>\n",
       "    <tr>\n",
       "      <th class=\"index_name level0\" >cl</th>\n",
       "      <th class=\"blank col0\" >&nbsp;</th>\n",
       "      <th class=\"blank col1\" >&nbsp;</th>\n",
       "      <th class=\"blank col2\" >&nbsp;</th>\n",
       "      <th class=\"blank col3\" >&nbsp;</th>\n",
       "      <th class=\"blank col4\" >&nbsp;</th>\n",
       "      <th class=\"blank col5\" >&nbsp;</th>\n",
       "      <th class=\"blank col6\" >&nbsp;</th>\n",
       "      <th class=\"blank col7\" >&nbsp;</th>\n",
       "      <th class=\"blank col8\" >&nbsp;</th>\n",
       "      <th class=\"blank col9\" >&nbsp;</th>\n",
       "      <th class=\"blank col10\" >&nbsp;</th>\n",
       "      <th class=\"blank col11\" >&nbsp;</th>\n",
       "      <th class=\"blank col12\" >&nbsp;</th>\n",
       "      <th class=\"blank col13\" >&nbsp;</th>\n",
       "      <th class=\"blank col14\" >&nbsp;</th>\n",
       "      <th class=\"blank col15\" >&nbsp;</th>\n",
       "      <th class=\"blank col16\" >&nbsp;</th>\n",
       "      <th class=\"blank col17\" >&nbsp;</th>\n",
       "      <th class=\"blank col18\" >&nbsp;</th>\n",
       "      <th class=\"blank col19\" >&nbsp;</th>\n",
       "      <th class=\"blank col20\" >&nbsp;</th>\n",
       "      <th class=\"blank col21\" >&nbsp;</th>\n",
       "      <th class=\"blank col22\" >&nbsp;</th>\n",
       "      <th class=\"blank col23\" >&nbsp;</th>\n",
       "      <th class=\"blank col24\" >&nbsp;</th>\n",
       "      <th class=\"blank col25\" >&nbsp;</th>\n",
       "      <th class=\"blank col26\" >&nbsp;</th>\n",
       "      <th class=\"blank col27\" >&nbsp;</th>\n",
       "      <th class=\"blank col28\" >&nbsp;</th>\n",
       "      <th class=\"blank col29\" >&nbsp;</th>\n",
       "      <th class=\"blank col30\" >&nbsp;</th>\n",
       "      <th class=\"blank col31\" >&nbsp;</th>\n",
       "      <th class=\"blank col32\" >&nbsp;</th>\n",
       "      <th class=\"blank col33\" >&nbsp;</th>\n",
       "      <th class=\"blank col34\" >&nbsp;</th>\n",
       "      <th class=\"blank col35\" >&nbsp;</th>\n",
       "      <th class=\"blank col36\" >&nbsp;</th>\n",
       "      <th class=\"blank col37\" >&nbsp;</th>\n",
       "      <th class=\"blank col38\" >&nbsp;</th>\n",
       "    </tr>\n",
       "  </thead>\n",
       "  <tbody>\n",
       "    <tr>\n",
       "      <th id=\"T_d8021_level0_row0\" class=\"row_heading level0 row0\" >0</th>\n",
       "      <td id=\"T_d8021_row0_col0\" class=\"data row0 col0\" >2.093418</td>\n",
       "      <td id=\"T_d8021_row0_col1\" class=\"data row0 col1\" >0.874696</td>\n",
       "      <td id=\"T_d8021_row0_col2\" class=\"data row0 col2\" >0.008373</td>\n",
       "      <td id=\"T_d8021_row0_col3\" class=\"data row0 col3\" >0.000000</td>\n",
       "      <td id=\"T_d8021_row0_col4\" class=\"data row0 col4\" >0.000000</td>\n",
       "      <td id=\"T_d8021_row0_col5\" class=\"data row0 col5\" >0.086243</td>\n",
       "      <td id=\"T_d8021_row0_col6\" class=\"data row0 col6\" >0.015388</td>\n",
       "      <td id=\"T_d8021_row0_col7\" class=\"data row0 col7\" >0.000000</td>\n",
       "      <td id=\"T_d8021_row0_col8\" class=\"data row0 col8\" >0.000000</td>\n",
       "      <td id=\"T_d8021_row0_col9\" class=\"data row0 col9\" >0.003012</td>\n",
       "      <td id=\"T_d8021_row0_col10\" class=\"data row0 col10\" >0.000000</td>\n",
       "      <td id=\"T_d8021_row0_col11\" class=\"data row0 col11\" >0.000000</td>\n",
       "      <td id=\"T_d8021_row0_col12\" class=\"data row0 col12\" >0.008061</td>\n",
       "      <td id=\"T_d8021_row0_col13\" class=\"data row0 col13\" >0.004020</td>\n",
       "      <td id=\"T_d8021_row0_col14\" class=\"data row0 col14\" >0.000000</td>\n",
       "      <td id=\"T_d8021_row0_col15\" class=\"data row0 col15\" >0.000000</td>\n",
       "      <td id=\"T_d8021_row0_col16\" class=\"data row0 col16\" >0.000206</td>\n",
       "      <td id=\"T_d8021_row0_col17\" class=\"data row0 col17\" >0.000001</td>\n",
       "      <td id=\"T_d8021_row0_col18\" class=\"data row0 col18\" >47.910910</td>\n",
       "      <td id=\"T_d8021_row0_col19\" class=\"data row0 col19\" >0.082331</td>\n",
       "      <td id=\"T_d8021_row0_col20\" class=\"data row0 col20\" >0.081826</td>\n",
       "      <td id=\"T_d8021_row0_col21\" class=\"data row0 col21\" >0.085610</td>\n",
       "      <td id=\"T_d8021_row0_col22\" class=\"data row0 col22\" >0.080925</td>\n",
       "      <td id=\"T_d8021_row0_col23\" class=\"data row0 col23\" >0.091541</td>\n",
       "      <td id=\"T_d8021_row0_col24\" class=\"data row0 col24\" >0.088170</td>\n",
       "      <td id=\"T_d8021_row0_col25\" class=\"data row0 col25\" >0.076638</td>\n",
       "      <td id=\"T_d8021_row0_col26\" class=\"data row0 col26\" >0.082194</td>\n",
       "      <td id=\"T_d8021_row0_col27\" class=\"data row0 col27\" >0.076841</td>\n",
       "      <td id=\"T_d8021_row0_col28\" class=\"data row0 col28\" >0.107371</td>\n",
       "      <td id=\"T_d8021_row0_col29\" class=\"data row0 col29\" >0.078125</td>\n",
       "      <td id=\"T_d8021_row0_col30\" class=\"data row0 col30\" >0.068428</td>\n",
       "      <td id=\"T_d8021_row0_col31\" class=\"data row0 col31\" >0.164119</td>\n",
       "      <td id=\"T_d8021_row0_col32\" class=\"data row0 col32\" >0.171868</td>\n",
       "      <td id=\"T_d8021_row0_col33\" class=\"data row0 col33\" >0.109916</td>\n",
       "      <td id=\"T_d8021_row0_col34\" class=\"data row0 col34\" >0.099342</td>\n",
       "      <td id=\"T_d8021_row0_col35\" class=\"data row0 col35\" >0.147253</td>\n",
       "      <td id=\"T_d8021_row0_col36\" class=\"data row0 col36\" >0.152794</td>\n",
       "      <td id=\"T_d8021_row0_col37\" class=\"data row0 col37\" >0.154708</td>\n",
       "      <td id=\"T_d8021_row0_col38\" class=\"data row0 col38\" >47.910910</td>\n",
       "    </tr>\n",
       "    <tr>\n",
       "      <th id=\"T_d8021_level0_row1\" class=\"row_heading level0 row1\" >1</th>\n",
       "      <td id=\"T_d8021_row1_col0\" class=\"data row1 col0\" >4.982026</td>\n",
       "      <td id=\"T_d8021_row1_col1\" class=\"data row1 col1\" >0.607543</td>\n",
       "      <td id=\"T_d8021_row1_col2\" class=\"data row1 col2\" >0.107435</td>\n",
       "      <td id=\"T_d8021_row1_col3\" class=\"data row1 col3\" >0.159575</td>\n",
       "      <td id=\"T_d8021_row1_col4\" class=\"data row1 col4\" >0.009906</td>\n",
       "      <td id=\"T_d8021_row1_col5\" class=\"data row1 col5\" >0.002614</td>\n",
       "      <td id=\"T_d8021_row1_col6\" class=\"data row1 col6\" >0.002726</td>\n",
       "      <td id=\"T_d8021_row1_col7\" class=\"data row1 col7\" >0.005832</td>\n",
       "      <td id=\"T_d8021_row1_col8\" class=\"data row1 col8\" >0.008709</td>\n",
       "      <td id=\"T_d8021_row1_col9\" class=\"data row1 col9\" >0.000020</td>\n",
       "      <td id=\"T_d8021_row1_col10\" class=\"data row1 col10\" >0.001300</td>\n",
       "      <td id=\"T_d8021_row1_col11\" class=\"data row1 col11\" >0.004591</td>\n",
       "      <td id=\"T_d8021_row1_col12\" class=\"data row1 col12\" >0.001658</td>\n",
       "      <td id=\"T_d8021_row1_col13\" class=\"data row1 col13\" >0.001039</td>\n",
       "      <td id=\"T_d8021_row1_col14\" class=\"data row1 col14\" >0.002315</td>\n",
       "      <td id=\"T_d8021_row1_col15\" class=\"data row1 col15\" >0.084737</td>\n",
       "      <td id=\"T_d8021_row1_col16\" class=\"data row1 col16\" >0.000000</td>\n",
       "      <td id=\"T_d8021_row1_col17\" class=\"data row1 col17\" >0.000000</td>\n",
       "      <td id=\"T_d8021_row1_col18\" class=\"data row1 col18\" >14.168961</td>\n",
       "      <td id=\"T_d8021_row1_col19\" class=\"data row1 col19\" >0.083766</td>\n",
       "      <td id=\"T_d8021_row1_col20\" class=\"data row1 col20\" >0.083648</td>\n",
       "      <td id=\"T_d8021_row1_col21\" class=\"data row1 col21\" >0.089475</td>\n",
       "      <td id=\"T_d8021_row1_col22\" class=\"data row1 col22\" >0.083191</td>\n",
       "      <td id=\"T_d8021_row1_col23\" class=\"data row1 col23\" >0.089117</td>\n",
       "      <td id=\"T_d8021_row1_col24\" class=\"data row1 col24\" >0.086914</td>\n",
       "      <td id=\"T_d8021_row1_col25\" class=\"data row1 col25\" >0.079147</td>\n",
       "      <td id=\"T_d8021_row1_col26\" class=\"data row1 col26\" >0.081607</td>\n",
       "      <td id=\"T_d8021_row1_col27\" class=\"data row1 col27\" >0.077603</td>\n",
       "      <td id=\"T_d8021_row1_col28\" class=\"data row1 col28\" >0.086319</td>\n",
       "      <td id=\"T_d8021_row1_col29\" class=\"data row1 col29\" >0.085374</td>\n",
       "      <td id=\"T_d8021_row1_col30\" class=\"data row1 col30\" >0.073838</td>\n",
       "      <td id=\"T_d8021_row1_col31\" class=\"data row1 col31\" >0.159718</td>\n",
       "      <td id=\"T_d8021_row1_col32\" class=\"data row1 col32\" >0.141946</td>\n",
       "      <td id=\"T_d8021_row1_col33\" class=\"data row1 col33\" >0.147264</td>\n",
       "      <td id=\"T_d8021_row1_col34\" class=\"data row1 col34\" >0.110069</td>\n",
       "      <td id=\"T_d8021_row1_col35\" class=\"data row1 col35\" >0.147686</td>\n",
       "      <td id=\"T_d8021_row1_col36\" class=\"data row1 col36\" >0.143743</td>\n",
       "      <td id=\"T_d8021_row1_col37\" class=\"data row1 col37\" >0.149575</td>\n",
       "      <td id=\"T_d8021_row1_col38\" class=\"data row1 col38\" >14.168961</td>\n",
       "    </tr>\n",
       "    <tr>\n",
       "      <th id=\"T_d8021_level0_row2\" class=\"row_heading level0 row2\" >2</th>\n",
       "      <td id=\"T_d8021_row2_col0\" class=\"data row2 col0\" >17.697238</td>\n",
       "      <td id=\"T_d8021_row2_col1\" class=\"data row2 col1\" >1.000000</td>\n",
       "      <td id=\"T_d8021_row2_col2\" class=\"data row2 col2\" >0.000000</td>\n",
       "      <td id=\"T_d8021_row2_col3\" class=\"data row2 col3\" >0.000000</td>\n",
       "      <td id=\"T_d8021_row2_col4\" class=\"data row2 col4\" >0.000000</td>\n",
       "      <td id=\"T_d8021_row2_col5\" class=\"data row2 col5\" >0.000000</td>\n",
       "      <td id=\"T_d8021_row2_col6\" class=\"data row2 col6\" >0.000000</td>\n",
       "      <td id=\"T_d8021_row2_col7\" class=\"data row2 col7\" >0.000000</td>\n",
       "      <td id=\"T_d8021_row2_col8\" class=\"data row2 col8\" >0.000000</td>\n",
       "      <td id=\"T_d8021_row2_col9\" class=\"data row2 col9\" >0.000000</td>\n",
       "      <td id=\"T_d8021_row2_col10\" class=\"data row2 col10\" >0.000000</td>\n",
       "      <td id=\"T_d8021_row2_col11\" class=\"data row2 col11\" >0.000000</td>\n",
       "      <td id=\"T_d8021_row2_col12\" class=\"data row2 col12\" >0.000000</td>\n",
       "      <td id=\"T_d8021_row2_col13\" class=\"data row2 col13\" >0.000000</td>\n",
       "      <td id=\"T_d8021_row2_col14\" class=\"data row2 col14\" >0.000000</td>\n",
       "      <td id=\"T_d8021_row2_col15\" class=\"data row2 col15\" >0.000000</td>\n",
       "      <td id=\"T_d8021_row2_col16\" class=\"data row2 col16\" >0.000000</td>\n",
       "      <td id=\"T_d8021_row2_col17\" class=\"data row2 col17\" >0.000000</td>\n",
       "      <td id=\"T_d8021_row2_col18\" class=\"data row2 col18\" >5.028398</td>\n",
       "      <td id=\"T_d8021_row2_col19\" class=\"data row2 col19\" >0.116906</td>\n",
       "      <td id=\"T_d8021_row2_col20\" class=\"data row2 col20\" >0.107956</td>\n",
       "      <td id=\"T_d8021_row2_col21\" class=\"data row2 col21\" >0.122983</td>\n",
       "      <td id=\"T_d8021_row2_col22\" class=\"data row2 col22\" >0.076243</td>\n",
       "      <td id=\"T_d8021_row2_col23\" class=\"data row2 col23\" >0.097238</td>\n",
       "      <td id=\"T_d8021_row2_col24\" class=\"data row2 col24\" >0.082652</td>\n",
       "      <td id=\"T_d8021_row2_col25\" class=\"data row2 col25\" >0.062541</td>\n",
       "      <td id=\"T_d8021_row2_col26\" class=\"data row2 col26\" >0.057790</td>\n",
       "      <td id=\"T_d8021_row2_col27\" class=\"data row2 col27\" >0.056575</td>\n",
       "      <td id=\"T_d8021_row2_col28\" class=\"data row2 col28\" >0.063978</td>\n",
       "      <td id=\"T_d8021_row2_col29\" class=\"data row2 col29\" >0.075249</td>\n",
       "      <td id=\"T_d8021_row2_col30\" class=\"data row2 col30\" >0.079890</td>\n",
       "      <td id=\"T_d8021_row2_col31\" class=\"data row2 col31\" >0.152044</td>\n",
       "      <td id=\"T_d8021_row2_col32\" class=\"data row2 col32\" >0.131271</td>\n",
       "      <td id=\"T_d8021_row2_col33\" class=\"data row2 col33\" >0.185635</td>\n",
       "      <td id=\"T_d8021_row2_col34\" class=\"data row2 col34\" >0.131934</td>\n",
       "      <td id=\"T_d8021_row2_col35\" class=\"data row2 col35\" >0.133039</td>\n",
       "      <td id=\"T_d8021_row2_col36\" class=\"data row2 col36\" >0.131823</td>\n",
       "      <td id=\"T_d8021_row2_col37\" class=\"data row2 col37\" >0.134254</td>\n",
       "      <td id=\"T_d8021_row2_col38\" class=\"data row2 col38\" >5.028398</td>\n",
       "    </tr>\n",
       "  </tbody>\n",
       "</table>\n"
      ],
      "text/plain": [
       "<pandas.io.formats.style.Styler at 0x2733fd91080>"
      ]
     },
     "execution_count": 178,
     "metadata": {},
     "output_type": "execute_result"
    }
   ],
   "source": [
    "Y.groupby(\"cl\").mean().style.background_gradient(cmap='Blues')"
   ]
  },
  {
   "cell_type": "markdown",
   "metadata": {},
   "source": [
    "De acuerdo al perfilamiento anterior, se tendrian 3 categorias: \n",
    "\n",
    "- Cluster 0 : Se determinarian como inseguridad de nivel alto\n",
    "- Cluster 1 : Se determinarian como inseguridad de nivel medio\n",
    "- Cluster 2 : Se determinarian como inseguridad de nivel bajo\n",
    "\n",
    "Esto fue determinado a nivel alcaldia, esto lo cual podria clasificar cada cierto tiempo asignarles un nivel de incidencia\n",
    "\n",
    "Algo curioso es que aquellos dentro del nivel de inseguridad bajo realizan descripciones del delito mas amplias"
   ]
  }
 ],
 "metadata": {
  "kernelspec": {
   "display_name": "Python 3",
   "language": "python",
   "name": "python3"
  },
  "language_info": {
   "codemirror_mode": {
    "name": "ipython",
    "version": 3
   },
   "file_extension": ".py",
   "mimetype": "text/x-python",
   "name": "python",
   "nbconvert_exporter": "python",
   "pygments_lexer": "ipython3",
   "version": "3.7.3"
  }
 },
 "nbformat": 4,
 "nbformat_minor": 4
}
